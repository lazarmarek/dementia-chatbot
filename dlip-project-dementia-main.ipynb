{
 "cells": [
  {
   "cell_type": "markdown",
   "id": "208e0f1a",
   "metadata": {
    "papermill": {
     "duration": 0.011349,
     "end_time": "2024-12-22T16:37:33.739460",
     "exception": false,
     "start_time": "2024-12-22T16:37:33.728111",
     "status": "completed"
    },
    "tags": []
   },
   "source": [
    "## Table Of Contents\n",
    "<div class=\"alert alert-info\">\n",
    "    <b> </b>\n",
    "\n",
    "1. [Introduction](#h1)\n",
    "\n",
    "2. [Preparation](#h2)\n",
    "\n",
    "3. [Data Preprocessing](#h3)  \n",
    "\n",
    "4. [Fine-tuning the LLama 3.2 Model](#h4)\n",
    "\n",
    "5. [Model Evaluation, FT](#h4.1)\n",
    "\n",
    "6. [Creating the Classification Model](#h5)\n",
    "\n",
    "7. [Model Evaluation, NNC](#h5.1)\n",
    "\n",
    "8. [Integrating Patient Data & EMMA](#h6)\n",
    "\n",
    "9. [Conclussions](#h7)\n",
    "\n",
    "10. [References](#h8)"
   ]
  },
  {
   "cell_type": "markdown",
   "id": "750e653f",
   "metadata": {
    "papermill": {
     "duration": 0.008553,
     "end_time": "2024-12-22T16:37:33.756993",
     "exception": false,
     "start_time": "2024-12-22T16:37:33.748440",
     "status": "completed"
    },
    "tags": []
   },
   "source": [
    "# 1. Creating EMMA, an introduction\n",
    "\n",
    "Dementia is a progressive neurological condition that affects millions of people worldwide, causing memory loss, cognitive decline, and difficulty with communication. For individuals living with dementia, maintaining meaningful interactions and feeling understood can significantly enhance their quality of life (NPR, 2017; McMahon et al., 2023). Technology, particularly advancements in artificial intelligence (AI), offers innovative ways to support these individuals and their caregivers.\n",
    "\n",
    "In this project, an empathetic large language model (LLM) has been developed with the intention to assist individuals suffering from dementia. The lightweight [LLaMA 3.2](https://www.llama.com/docs/model-cards-and-prompt-formats/llama3_2#-llama-3.2-lightweight-models-(1b/3b)-) model with 1B parameters was trained on an empathetic dialogues dataset to enhance its ability to respond compassionately. Following training, responses were generated from both the fine-tuned model and the base LLaMA 3 model to a set of 1,000 dementia-related questions. To evaluate the trained model, a separate neural network classifier was trained to distinguish between the responses from 1000 questions between the base model and the trained model. If the classifier could reliably differentiate the responses, it would have been a good indication that the fine-tuned model had effectively altered their responses based on the dataset. In case the neural network classifier showed reliable change, the next step would be to judge the responses with human assesment to decide if they are not only to be considered different responses, but improved responses for its purpose (showcasing more empathy). \n",
    "\n",
    "The second aspect of this project is a custom retrieval mechanism, where a database stores sample patient information. The system retrieves relevant details by querying the database with the patient ID for each input prompt. This ensures that the model provides accurate, context-aware responses tailored to the individual. "
   ]
  },
  {
   "cell_type": "markdown",
   "id": "5f3d2a5c",
   "metadata": {
    "papermill": {
     "duration": 0.008703,
     "end_time": "2024-12-22T16:37:33.774417",
     "exception": false,
     "start_time": "2024-12-22T16:37:33.765714",
     "status": "completed"
    },
    "tags": []
   },
   "source": [
    "### Research Insights\n",
    "\n",
    "To asses the relevance of this project and to gain knowledge regarding the  patient database information a meeting was had with Johanneke Pulles, [LinkedIn](https://www.linkedin.com/in/johanneke-pulles-86a99b12/?originalSubdomain=nl). Pulles has 24 years of experience at Cordaan, a nursing home where she is reguarly invloved in dementia care. This meeting generated valuable insights, to be further discussed in chapter 7: [Integrating Patient Data & EMMA](#h7).\n",
    "\n",
    "*Throughout this notebook we have used, altered and copied code from the tutorials and videos that we reference at the end of this notebook.*"
   ]
  },
  {
   "cell_type": "markdown",
   "id": "aaa08f5e",
   "metadata": {
    "papermill": {
     "duration": 0.008647,
     "end_time": "2024-12-22T16:37:33.791725",
     "exception": false,
     "start_time": "2024-12-22T16:37:33.783078",
     "status": "completed"
    },
    "tags": []
   },
   "source": [
    "# 2. Preparation\n",
    "\n",
    "In this section, we will load the necessary dependencies for the project. These dependencies will enable us to work with the model and perform tasks such as data preprocessing, and model fine-tuning to provide personalized, dementia-focused conversations. Below we briefly explain key parts of this process:\n",
    "\n",
    "1. **Importing Libraries**: We import necessary libraries such as `transformers`, `peft` (Parameter-Efficient Fine-Tuning), and `trl` (transformers for Reinforcement Learning), which support model training and evaluation.\n",
    "2. **Model Preparation**: \n",
    "   - `AutoModelForCausalLM` and `AutoTokenizer` handle loading the pre-trained model and tokenizer.\n",
    "   - `BitsAndBytesConfig` allows efficient training using quantization.\n",
    "   - `prepare_model_for_kbit_training` prepares the model for low-precision fine-tuning.\n",
    "3. **Dataset Loading**: `datasets.load_dataset` loads the data we'll use for training.\n",
    "4. **Fine-Tuning**: \n",
    "   - `LoraConfig` and `get_peft_model` enable efficient fine-tuning using LoRA (Low-Rank Adaptation).\n",
    "   - `SFTTrainer` simplifies the supervised fine-tuning process.\n",
    "5. **Pipeline Setup**: The `pipeline` creates an inference pipeline for generating predictions after training.\n",
    "6. **Logging and Monitoring**: `wandb` (Weights & Biases) allows us to track the performance metrics of our trained models.\n",
    "7. **Authentication with Hugging Face Hub**: We use `huggingface_hub` to authenticate and securely access the Hugging Face platform using a token that we generated on this platform. This allows us save our fine-tuned model on their platform. "
   ]
  },
  {
   "cell_type": "code",
   "execution_count": 1,
   "id": "b69f418c",
   "metadata": {
    "execution": {
     "iopub.execute_input": "2024-12-22T16:37:33.810807Z",
     "iopub.status.busy": "2024-12-22T16:37:33.810476Z",
     "iopub.status.idle": "2024-12-22T16:39:19.984890Z",
     "shell.execute_reply": "2024-12-22T16:39:19.984060Z"
    },
    "papermill": {
     "duration": 106.186531,
     "end_time": "2024-12-22T16:39:19.987012",
     "exception": false,
     "start_time": "2024-12-22T16:37:33.800481",
     "status": "completed"
    },
    "tags": []
   },
   "outputs": [],
   "source": [
    "%%capture\n",
    "%pip install -U transformers \n",
    "%pip install -U datasets \n",
    "%pip install -U accelerate \n",
    "%pip install -U peft \n",
    "%pip install -U trl \n",
    "%pip install -U bitsandbytes \n",
    "%pip install -U wandb\n",
    "%pip install scikit-learn\n",
    "%pip install tensorflow\n",
    "\n",
    "import numpy as np \n",
    "import pandas as pd \n",
    "import os\n",
    "import kagglehub\n",
    "for dirname, _, filenames in os.walk('/kaggle/input'):\n",
    "    for filename in filenames:\n",
    "        print(os.path.join(dirname, filename))"
   ]
  },
  {
   "cell_type": "code",
   "execution_count": 2,
   "id": "b62e8011",
   "metadata": {
    "execution": {
     "iopub.execute_input": "2024-12-22T16:39:20.006793Z",
     "iopub.status.busy": "2024-12-22T16:39:20.006430Z",
     "iopub.status.idle": "2024-12-22T16:39:39.148271Z",
     "shell.execute_reply": "2024-12-22T16:39:39.147523Z"
    },
    "papermill": {
     "duration": 19.153627,
     "end_time": "2024-12-22T16:39:39.150284",
     "exception": false,
     "start_time": "2024-12-22T16:39:19.996657",
     "status": "completed"
    },
    "tags": []
   },
   "outputs": [],
   "source": [
    "from transformers import (\n",
    "    AutoModelForCausalLM,\n",
    "    AutoTokenizer,\n",
    "    BitsAndBytesConfig,\n",
    "    HfArgumentParser,\n",
    "    TrainingArguments,\n",
    "    pipeline,\n",
    "    logging,\n",
    ")\n",
    "from peft import (\n",
    "    LoraConfig,\n",
    "    PeftModel,\n",
    "    prepare_model_for_kbit_training,\n",
    "    get_peft_model,\n",
    ")\n",
    "import torch, wandb\n",
    "from datasets import load_dataset\n",
    "from trl import SFTTrainer, SFTConfig, setup_chat_format"
   ]
  },
  {
   "cell_type": "code",
   "execution_count": 3,
   "id": "5ccb267b",
   "metadata": {
    "execution": {
     "iopub.execute_input": "2024-12-22T16:39:39.169937Z",
     "iopub.status.busy": "2024-12-22T16:39:39.169303Z",
     "iopub.status.idle": "2024-12-22T16:39:39.506128Z",
     "shell.execute_reply": "2024-12-22T16:39:39.505473Z"
    },
    "papermill": {
     "duration": 0.348599,
     "end_time": "2024-12-22T16:39:39.508068",
     "exception": false,
     "start_time": "2024-12-22T16:39:39.159469",
     "status": "completed"
    },
    "tags": []
   },
   "outputs": [],
   "source": [
    "from huggingface_hub import login\n",
    "from kaggle_secrets import UserSecretsClient\n",
    "user_secrets = UserSecretsClient()\n",
    "\n",
    "hf_token = user_secrets.get_secret(\"HUGGINGFACE_KEY\")\n",
    "\n",
    "login(token = hf_token)"
   ]
  },
  {
   "cell_type": "markdown",
   "id": "b9fb8a78",
   "metadata": {
    "papermill": {
     "duration": 0.008485,
     "end_time": "2024-12-22T16:39:39.525600",
     "exception": false,
     "start_time": "2024-12-22T16:39:39.517115",
     "status": "completed"
    },
    "tags": []
   },
   "source": [
    "### Set Up for Fine Tuning\n",
    "We set the variables for our base model, Meta LLama 3, and our trained model:"
   ]
  },
  {
   "cell_type": "code",
   "execution_count": 4,
   "id": "2123e729",
   "metadata": {
    "execution": {
     "iopub.execute_input": "2024-12-22T16:39:39.543617Z",
     "iopub.status.busy": "2024-12-22T16:39:39.543359Z",
     "iopub.status.idle": "2024-12-22T16:39:39.546944Z",
     "shell.execute_reply": "2024-12-22T16:39:39.546281Z"
    },
    "papermill": {
     "duration": 0.014556,
     "end_time": "2024-12-22T16:39:39.548614",
     "exception": false,
     "start_time": "2024-12-22T16:39:39.534058",
     "status": "completed"
    },
    "tags": []
   },
   "outputs": [],
   "source": [
    "base_model = \"/kaggle/input/llama-3.2/transformers/1b-instruct/1\"\n",
    "new_model = \"llama-3-chat-empathy-25000-3e\""
   ]
  },
  {
   "cell_type": "markdown",
   "id": "2725866c",
   "metadata": {
    "papermill": {
     "duration": 0.00845,
     "end_time": "2024-12-22T16:39:39.566035",
     "exception": false,
     "start_time": "2024-12-22T16:39:39.557585",
     "status": "completed"
    },
    "tags": []
   },
   "source": [
    "Then, we set the data type and attention implementation: This helps reduce memory usage and speeds up computations, especially on GPUs. \"Eager\" mode  means that operations are executed immediately as they are called, which can be useful for debugging and development:"
   ]
  },
  {
   "cell_type": "code",
   "execution_count": 5,
   "id": "52bc23cf",
   "metadata": {
    "execution": {
     "iopub.execute_input": "2024-12-22T16:39:39.584265Z",
     "iopub.status.busy": "2024-12-22T16:39:39.583995Z",
     "iopub.status.idle": "2024-12-22T16:39:39.587669Z",
     "shell.execute_reply": "2024-12-22T16:39:39.586879Z"
    },
    "papermill": {
     "duration": 0.014868,
     "end_time": "2024-12-22T16:39:39.589447",
     "exception": false,
     "start_time": "2024-12-22T16:39:39.574579",
     "status": "completed"
    },
    "tags": []
   },
   "outputs": [],
   "source": [
    "torch_dtype = torch.float16\n",
    "attn_implementation = \"eager\""
   ]
  },
  {
   "cell_type": "markdown",
   "id": "c3790c8d",
   "metadata": {
    "papermill": {
     "duration": 0.008532,
     "end_time": "2024-12-22T16:39:39.606663",
     "exception": false,
     "start_time": "2024-12-22T16:39:39.598131",
     "status": "completed"
    },
    "tags": []
   },
   "source": [
    "The next step configures **QLoRA (Quantized Low-Rank Adaptation)** It optimizes the model for faster and memory-efficient processing by:\n",
    "\n",
    "1. **4-bit Quantization**: Reduces the precision of model weights to 4 bits, minimizing memory usage and speeding up computations.\n",
    "2. **NF4 Quantization Type**: Uses the NormalFloat4 (NF4) format, which improves numerical stability during training.\n",
    "3. **Compute Data Type**: Specifies the precision for internal computations, we specifizied this to float16 in the previous step.\n",
    "4. **Double Quantization**: Adds an extra layer of quantization for further memory savings while maintaining performance.\n",
    "\n",
    "This allows the base model to run on limited hardware, like our kaggle environment without significant performance trade-offs.."
   ]
  },
  {
   "cell_type": "code",
   "execution_count": 6,
   "id": "03c8c780",
   "metadata": {
    "execution": {
     "iopub.execute_input": "2024-12-22T16:39:39.624905Z",
     "iopub.status.busy": "2024-12-22T16:39:39.624690Z",
     "iopub.status.idle": "2024-12-22T16:39:39.629596Z",
     "shell.execute_reply": "2024-12-22T16:39:39.628783Z"
    },
    "papermill": {
     "duration": 0.016031,
     "end_time": "2024-12-22T16:39:39.631436",
     "exception": false,
     "start_time": "2024-12-22T16:39:39.615405",
     "status": "completed"
    },
    "tags": []
   },
   "outputs": [],
   "source": [
    "# QLoRA config (speeds up processing)\n",
    "bnb_config = BitsAndBytesConfig(\n",
    "    load_in_4bit=True,\n",
    "    bnb_4bit_quant_type=\"nf4\",\n",
    "    bnb_4bit_compute_dtype=torch_dtype,\n",
    "    bnb_4bit_use_double_quant=True,\n",
    ")\n"
   ]
  },
  {
   "cell_type": "markdown",
   "id": "a0fbbcfc",
   "metadata": {
    "papermill": {
     "duration": 0.008836,
     "end_time": "2024-12-22T16:39:39.649034",
     "exception": false,
     "start_time": "2024-12-22T16:39:39.640198",
     "status": "completed"
    },
    "tags": []
   },
   "source": [
    "Here we load the base model and it's tokenizer, and set up the tokenizer for conversational AI tasks."
   ]
  },
  {
   "cell_type": "code",
   "execution_count": 7,
   "id": "d6196ea8",
   "metadata": {
    "execution": {
     "iopub.execute_input": "2024-12-22T16:39:39.667397Z",
     "iopub.status.busy": "2024-12-22T16:39:39.667115Z",
     "iopub.status.idle": "2024-12-22T16:39:53.002345Z",
     "shell.execute_reply": "2024-12-22T16:39:53.001599Z"
    },
    "papermill": {
     "duration": 13.346586,
     "end_time": "2024-12-22T16:39:53.004357",
     "exception": false,
     "start_time": "2024-12-22T16:39:39.657771",
     "status": "completed"
    },
    "tags": []
   },
   "outputs": [],
   "source": [
    "# Load model\n",
    "model = AutoModelForCausalLM.from_pretrained(\n",
    "    base_model,\n",
    "    quantization_config=bnb_config,\n",
    "    device_map=\"auto\",\n",
    "    attn_implementation=attn_implementation\n",
    ")\n",
    "\n",
    "# Load tokenizer\n",
    "tokenizer = AutoTokenizer.from_pretrained(base_model)\n",
    "tokenizer.pad_token = tokenizer.eos_token"
   ]
  },
  {
   "cell_type": "markdown",
   "id": "114cb43f",
   "metadata": {
    "papermill": {
     "duration": 0.008642,
     "end_time": "2024-12-22T16:39:53.022298",
     "exception": false,
     "start_time": "2024-12-22T16:39:53.013656",
     "status": "completed"
    },
    "tags": []
   },
   "source": [
    "Fine-tuning the full model will take a significant amount of time, hence, to improve the training time, **an adapter layer with a few parameters will be attached using LoRA configuration**, making the entire process faster and more memory-efficient."
   ]
  },
  {
   "cell_type": "code",
   "execution_count": 8,
   "id": "ebee80f0",
   "metadata": {
    "execution": {
     "iopub.execute_input": "2024-12-22T16:39:53.041124Z",
     "iopub.status.busy": "2024-12-22T16:39:53.040637Z",
     "iopub.status.idle": "2024-12-22T16:39:53.293847Z",
     "shell.execute_reply": "2024-12-22T16:39:53.292907Z"
    },
    "papermill": {
     "duration": 0.265062,
     "end_time": "2024-12-22T16:39:53.296026",
     "exception": false,
     "start_time": "2024-12-22T16:39:53.030964",
     "status": "completed"
    },
    "tags": []
   },
   "outputs": [],
   "source": [
    "# LoRA config\n",
    "peft_config = LoraConfig(\n",
    "    r=16,\n",
    "    lora_alpha=32,\n",
    "    lora_dropout=0.05,\n",
    "    bias=\"none\",\n",
    "    task_type=\"CAUSAL_LM\",\n",
    "    target_modules=['up_proj', 'down_proj', 'gate_proj', 'k_proj', 'q_proj', 'v_proj', 'o_proj']\n",
    ")\n",
    "\n",
    "# Applying LoRA to the Model:\n",
    "model = get_peft_model(model, peft_config)"
   ]
  },
  {
   "cell_type": "markdown",
   "id": "49f3a3c8",
   "metadata": {
    "papermill": {
     "duration": 0.0085,
     "end_time": "2024-12-22T16:39:53.313941",
     "exception": false,
     "start_time": "2024-12-22T16:39:53.305441",
     "status": "completed"
    },
    "tags": []
   },
   "source": [
    "To assess whether the model was loaded correctly, it is used to generate a response to a \"I am hurt\" input prompt."
   ]
  },
  {
   "cell_type": "code",
   "execution_count": 9,
   "id": "f4f9d69f",
   "metadata": {
    "execution": {
     "iopub.execute_input": "2024-12-22T16:39:53.332266Z",
     "iopub.status.busy": "2024-12-22T16:39:53.331947Z",
     "iopub.status.idle": "2024-12-22T16:40:00.919473Z",
     "shell.execute_reply": "2024-12-22T16:40:00.918480Z"
    },
    "papermill": {
     "duration": 7.598656,
     "end_time": "2024-12-22T16:40:00.921181",
     "exception": false,
     "start_time": "2024-12-22T16:39:53.322525",
     "status": "completed"
    },
    "tags": []
   },
   "outputs": [
    {
     "name": "stderr",
     "output_type": "stream",
     "text": [
      "Device set to use cuda:0\n",
      "Setting `pad_token_id` to `eos_token_id`:128001 for open-end generation.\n"
     ]
    },
    {
     "name": "stdout",
     "output_type": "stream",
     "text": [
      "{'role': 'assistant', 'content': \"It can be very painful and overwhelming when we're feeling hurt. I'm here to listen and support you. Would you like to talk about what's making you feel hurt? Sometimes sharing what's on your mind can help us process and feel better.\\n\\nRemember, you're not alone, and I'm here to listen and support you. I'll do my best to create a safe and non-judgmental space for you to express yourself.\"}\n"
     ]
    }
   ],
   "source": [
    "model_id = \"/kaggle/input/llama-3.2/transformers/1b-instruct/1\"\n",
    "pipe = pipeline(\n",
    "    \"text-generation\",\n",
    "    model=model_id,\n",
    "    device_map=\"auto\",\n",
    ")\n",
    "messages = [\n",
    "    {\"role\": \"system\", \"content\": \"You are an AI assistant specialized in dementia care. Respond patiently, clearly, and empathetically to questions. Reassure and guide the user gently while avoiding complex language.\"},\n",
    "    {\"role\": \"user\", \"content\": \"I am hurt\"},\n",
    "]\n",
    "outputs = pipe(\n",
    "    messages,\n",
    "    max_new_tokens=128,\n",
    "    do_sample=True\n",
    ")\n",
    "print(outputs[0][\"generated_text\"][-1])"
   ]
  },
  {
   "cell_type": "markdown",
   "id": "5527b6f0",
   "metadata": {
    "papermill": {
     "duration": 0.008606,
     "end_time": "2024-12-22T16:40:00.938942",
     "exception": false,
     "start_time": "2024-12-22T16:40:00.930336",
     "status": "completed"
    },
    "tags": []
   },
   "source": [
    "# 3. Data Preprocessing\n",
    "\n",
    "The [empathetic chat dataset](https://www.kaggle.com/datasets/atharvjairath/empathetic-dialogues-facebook-ai) was loaded, shuffled, and reduced to 25,000 rows to optimize training time and computational efficiency. \n",
    "\n",
    "The chat format was then restructured into a conversational style by combining questions and responses into a single \"text\" column for consistency and ease of use.\n",
    "\n",
    "Finally, the dataset was divided into training and validation sets to facilitate model training and evaluation."
   ]
  },
  {
   "cell_type": "code",
   "execution_count": 10,
   "id": "c933d497",
   "metadata": {
    "execution": {
     "iopub.execute_input": "2024-12-22T16:40:00.957618Z",
     "iopub.status.busy": "2024-12-22T16:40:00.957325Z",
     "iopub.status.idle": "2024-12-22T16:40:01.881400Z",
     "shell.execute_reply": "2024-12-22T16:40:01.880397Z"
    },
    "papermill": {
     "duration": 0.935396,
     "end_time": "2024-12-22T16:40:01.883047",
     "exception": false,
     "start_time": "2024-12-22T16:40:00.947651",
     "status": "completed"
    },
    "tags": []
   },
   "outputs": [
    {
     "name": "stdout",
     "output_type": "stream",
     "text": [
      "Path to dataset files: /kaggle/input/empathetic-dialogues-facebook-ai\n"
     ]
    },
    {
     "data": {
      "application/vnd.jupyter.widget-view+json": {
       "model_id": "502669f2b73a4c7894da5f4d1061a65f",
       "version_major": 2,
       "version_minor": 0
      },
      "text/plain": [
       "Generating train split: 0 examples [00:00, ? examples/s]"
      ]
     },
     "metadata": {},
     "output_type": "display_data"
    },
    {
     "name": "stdout",
     "output_type": "stream",
     "text": [
      "{'empathetic_dialogues': ['Customer :unexpected is even better than expected! congrats! \\nAgent :', 'Customer :I am going to a party this weekend\\nAgent :', 'Customer :I went to church and everything this week. Maybe I will be blessed in my career!\\nAgent :', 'Customer :oh cool buddy.. how much did you win?\\nAgent :', \"Customer :I failed my final exam. Now I'll lose my scholarship.\\nAgent :\"], 'labels': [\"Yes, I'm so very happy for it!\", 'Awesome!  Are you excited to go?', 'I hope that does good things for you. They say if you believe in something enough it comes true.', 'i cant disclose that ', 'Oh man, that must be a horrible feeling.']}\n",
      "25000\n"
     ]
    }
   ],
   "source": [
    "# Download latest version\n",
    "path = kagglehub.dataset_download(\"atharvjairath/empathetic-dialogues-facebook-ai\")\n",
    "print(\"Path to dataset files:\", path)\n",
    "dataset_name = \"/kaggle/input/empathetic-dialogues-facebook-ai\"\n",
    "\n",
    "# Load dataset and take a subset for demo purposes\n",
    "dataset = load_dataset(dataset_name, split=\"all\")\n",
    "dataset = dataset.select(range(25000))\n",
    "dataset = dataset.shuffle(seed=65)  #using 25000 samples to train\n",
    "\n",
    "# Select specific columns\n",
    "columns_to_keep = dataset.column_names[3:-2]  # Adjust indices for your case\n",
    "dataset = dataset.remove_columns([col for col in dataset.column_names if col not in columns_to_keep])\n",
    "\n",
    "# View the dataset\n",
    "print(dataset[:5])  # Prints the first 5 rows\n",
    "print(len(dataset))"
   ]
  },
  {
   "cell_type": "code",
   "execution_count": 11,
   "id": "bf197582",
   "metadata": {
    "execution": {
     "iopub.execute_input": "2024-12-22T16:40:01.902870Z",
     "iopub.status.busy": "2024-12-22T16:40:01.902605Z",
     "iopub.status.idle": "2024-12-22T16:40:04.201478Z",
     "shell.execute_reply": "2024-12-22T16:40:04.200636Z"
    },
    "papermill": {
     "duration": 2.310939,
     "end_time": "2024-12-22T16:40:04.203573",
     "exception": false,
     "start_time": "2024-12-22T16:40:01.892634",
     "status": "completed"
    },
    "tags": []
   },
   "outputs": [
    {
     "name": "stderr",
     "output_type": "stream",
     "text": [
      "/opt/conda/lib/python3.10/site-packages/multiprocess/popen_fork.py:66: RuntimeWarning: os.fork() was called. os.fork() is incompatible with multithreaded code, and JAX is multithreaded, so this will likely lead to a deadlock.\n",
      "  self.pid = os.fork()\n"
     ]
    },
    {
     "data": {
      "application/vnd.jupyter.widget-view+json": {
       "model_id": "42c5f8e22b58464091324a5e6ccef6bf",
       "version_major": 2,
       "version_minor": 0
      },
      "text/plain": [
       "Map (num_proc=4):   0%|          | 0/25000 [00:00<?, ? examples/s]"
      ]
     },
     "metadata": {},
     "output_type": "display_data"
    },
    {
     "name": "stderr",
     "output_type": "stream",
     "text": [
      "/opt/conda/lib/python3.10/site-packages/multiprocess/popen_fork.py:66: RuntimeWarning: os.fork() was called. os.fork() is incompatible with multithreaded code, and JAX is multithreaded, so this will likely lead to a deadlock.\n",
      "  self.pid = os.fork()\n"
     ]
    }
   ],
   "source": [
    "# \"role\": \"user\": The user's message (from the \"empathetic_dialogues\" column in the dataset).\n",
    "# \"role\": \"assistant\": The assistant's message (from the \"labels\" column in the dataset).\n",
    "\n",
    "def format_chat_template(row):\n",
    "    row_json = [{\"role\": \"user\", \"content\": row[\"empathetic_dialogues\"]},\n",
    "               {\"role\": \"assistant\", \"content\": row[\"labels\"]}]\n",
    "    row[\"text\"] = tokenizer.apply_chat_template(row_json, tokenize=False)\n",
    "    return row\n",
    "\n",
    "dataset = dataset.map(\n",
    "    format_chat_template,\n",
    "    num_proc=4,\n",
    ")\n",
    "\n",
    "# View sample of data\n",
    "dataset['text'][20]\n",
    "\n",
    "# Training and Test split\n",
    "dataset = dataset.train_test_split(test_size=0.1)"
   ]
  },
  {
   "cell_type": "markdown",
   "id": "4949e40c",
   "metadata": {
    "papermill": {
     "duration": 0.009016,
     "end_time": "2024-12-22T16:40:04.222301",
     "exception": false,
     "start_time": "2024-12-22T16:40:04.213285",
     "status": "completed"
    },
    "tags": []
   },
   "source": [
    "# 4. Fine-tuning the LLaMA 3 Model\n",
    "\n",
    "This section focuses on fine-tuning the LLaMA 3 model using the empathetic dialogues dataset to enhance its ability to engage in compassionate and understanding conversations. The training process is configured with TrainingArguments and the SFTTrainer class, incorporating parameters such as batch sizes, learning rate, and evaluation steps to ensure efficient and effective fine-tuning. By training on this specialized dataset, the model is refined to deliver more empathetic and supportive interactions, making it well-suited for dementia-focused applications.\n",
    "\n",
    "The model is trained on 25000 rows, for 3 epochs. This took around three hours to train. A [tutorial](https://www.datacamp.com/tutorial/fine-tuning-llama-2) was used to fine-tune these hyper-parameters."
   ]
  },
  {
   "cell_type": "code",
   "execution_count": 12,
   "id": "81e96730",
   "metadata": {
    "execution": {
     "iopub.execute_input": "2024-12-22T16:40:04.241909Z",
     "iopub.status.busy": "2024-12-22T16:40:04.241621Z",
     "iopub.status.idle": "2024-12-22T16:40:04.270194Z",
     "shell.execute_reply": "2024-12-22T16:40:04.269346Z"
    },
    "papermill": {
     "duration": 0.040633,
     "end_time": "2024-12-22T16:40:04.271954",
     "exception": false,
     "start_time": "2024-12-22T16:40:04.231321",
     "status": "completed"
    },
    "tags": []
   },
   "outputs": [],
   "source": [
    "training_arguments = TrainingArguments(\n",
    "    output_dir=new_model,\n",
    "    per_device_train_batch_size=1,\n",
    "    per_device_eval_batch_size=1,\n",
    "    gradient_accumulation_steps=2,\n",
    "    optim=\"paged_adamw_32bit\",\n",
    "    num_train_epochs=3, #adjusted to 3 epochs\n",
    "    eval_strategy=\"steps\",\n",
    "    eval_steps=0.2,\n",
    "    logging_steps=1,\n",
    "    warmup_steps=10,\n",
    "    logging_strategy=\"steps\",\n",
    "    learning_rate=2e-4,\n",
    "    fp16=False,\n",
    "    bf16=False,\n",
    "    group_by_length=True,\n",
    "    report_to=\"wandb\"\n",
    ")"
   ]
  },
  {
   "cell_type": "markdown",
   "id": "000127fe",
   "metadata": {
    "papermill": {
     "duration": 0.008952,
     "end_time": "2024-12-22T16:40:04.290610",
     "exception": false,
     "start_time": "2024-12-22T16:40:04.281658",
     "status": "completed"
    },
    "tags": []
   },
   "source": [
    "Setting up a supervised fine-tuning (SFT) trainer, using predivined arguments from previous steps:"
   ]
  },
  {
   "cell_type": "code",
   "execution_count": 13,
   "id": "5aed6d03",
   "metadata": {
    "execution": {
     "iopub.execute_input": "2024-12-22T16:40:04.309912Z",
     "iopub.status.busy": "2024-12-22T16:40:04.309618Z",
     "iopub.status.idle": "2024-12-22T16:40:08.158463Z",
     "shell.execute_reply": "2024-12-22T16:40:08.157781Z"
    },
    "papermill": {
     "duration": 3.860342,
     "end_time": "2024-12-22T16:40:08.160002",
     "exception": false,
     "start_time": "2024-12-22T16:40:04.299660",
     "status": "completed"
    },
    "tags": []
   },
   "outputs": [
    {
     "name": "stderr",
     "output_type": "stream",
     "text": [
      "/tmp/ipykernel_23/2883752247.py:1: FutureWarning: `tokenizer` is deprecated and removed starting from version 0.16.0 for `SFTTrainer.__init__`. Use `processing_class` instead.\n",
      "  trainer = SFTTrainer(\n"
     ]
    },
    {
     "data": {
      "application/vnd.jupyter.widget-view+json": {
       "model_id": "d94344dcd8274f3db4e5dc24e06dc2e4",
       "version_major": 2,
       "version_minor": 0
      },
      "text/plain": [
       "Map:   0%|          | 0/22500 [00:00<?, ? examples/s]"
      ]
     },
     "metadata": {},
     "output_type": "display_data"
    },
    {
     "data": {
      "application/vnd.jupyter.widget-view+json": {
       "model_id": "80fe372493664c37a0c416321f7a8ecb",
       "version_major": 2,
       "version_minor": 0
      },
      "text/plain": [
       "Map:   0%|          | 0/2500 [00:00<?, ? examples/s]"
      ]
     },
     "metadata": {},
     "output_type": "display_data"
    }
   ],
   "source": [
    "trainer = SFTTrainer(\n",
    "    model=model,\n",
    "    train_dataset=dataset[\"train\"],\n",
    "    eval_dataset=dataset[\"test\"],\n",
    "    peft_config=peft_config,\n",
    "    tokenizer=tokenizer,\n",
    "    args=training_arguments,\n",
    ")"
   ]
  },
  {
   "cell_type": "markdown",
   "id": "c607fe2c",
   "metadata": {
    "papermill": {
     "duration": 0.009495,
     "end_time": "2024-12-22T16:40:08.179642",
     "exception": false,
     "start_time": "2024-12-22T16:40:08.170147",
     "status": "completed"
    },
    "tags": []
   },
   "source": [
    "The fine-tuning process is initiated using the code provided below. For simplicity and clarity, this notebook does not execute the fine-tuning code directly. Instead, the process was conducted in a forked environment, and the fine-tuned model is imported through git clone, where the files were saved on the HuggingFace platform wich we pushed the model to after fine tuning."
   ]
  },
  {
   "cell_type": "code",
   "execution_count": 14,
   "id": "6ba7c369",
   "metadata": {
    "execution": {
     "iopub.execute_input": "2024-12-22T16:40:08.199519Z",
     "iopub.status.busy": "2024-12-22T16:40:08.199266Z",
     "iopub.status.idle": "2024-12-22T16:40:08.202902Z",
     "shell.execute_reply": "2024-12-22T16:40:08.202194Z"
    },
    "papermill": {
     "duration": 0.015524,
     "end_time": "2024-12-22T16:40:08.204568",
     "exception": false,
     "start_time": "2024-12-22T16:40:08.189044",
     "status": "completed"
    },
    "tags": []
   },
   "outputs": [],
   "source": [
    "#trainer.train()"
   ]
  },
  {
   "cell_type": "code",
   "execution_count": 15,
   "id": "e3667eb7",
   "metadata": {
    "execution": {
     "iopub.execute_input": "2024-12-22T16:40:08.224579Z",
     "iopub.status.busy": "2024-12-22T16:40:08.224033Z",
     "iopub.status.idle": "2024-12-22T16:40:11.560436Z",
     "shell.execute_reply": "2024-12-22T16:40:11.559219Z"
    },
    "papermill": {
     "duration": 3.348847,
     "end_time": "2024-12-22T16:40:11.562812",
     "exception": false,
     "start_time": "2024-12-22T16:40:08.213965",
     "status": "completed"
    },
    "tags": []
   },
   "outputs": [
    {
     "name": "stderr",
     "output_type": "stream",
     "text": [
      "/opt/conda/lib/python3.10/pty.py:89: RuntimeWarning: os.fork() was called. os.fork() is incompatible with multithreaded code, and JAX is multithreaded, so this will likely lead to a deadlock.\n",
      "  pid, fd = os.forkpty()\n"
     ]
    },
    {
     "name": "stdout",
     "output_type": "stream",
     "text": [
      "Cloning into 'llama-3-chat-empathy-25000-3e'...\r\n",
      "remote: Enumerating objects: 14, done.\u001b[K\r\n",
      "remote: Counting objects: 100% (6/6), done.\u001b[K\r\n",
      "remote: Compressing objects: 100% (6/6), done.\u001b[K\r\n",
      "remote: Total 14 (delta 0), reused 0 (delta 0), pack-reused 8 (from 1)\u001b[K\r\n",
      "Unpacking objects: 100% (14/14), 7.93 KiB | 1.98 MiB/s, done.\r\n"
     ]
    }
   ],
   "source": [
    "!git clone https://huggingface.co/IsaHug/llama-3-chat-empathy-25000-3e\n",
    "\n",
    "new_model = \"/kaggle/working/llama-3-chat-empathy-25000-3e\""
   ]
  },
  {
   "cell_type": "markdown",
   "id": "cf3d11f9",
   "metadata": {
    "papermill": {
     "duration": 0.009425,
     "end_time": "2024-12-22T16:40:11.582151",
     "exception": false,
     "start_time": "2024-12-22T16:40:11.572726",
     "status": "completed"
    },
    "tags": []
   },
   "source": [
    "## Model Evaluation, FT\n",
    "\n",
    "The code below finishes the Weights & Biases session, it will generate the run history and summary, providing us with performance metrics of our trained model. Because these were run in a different notebook, the table with training and validation loss is displayed through an image. We see that there is a decrease in both, indicating that the model learned during training."
   ]
  },
  {
   "cell_type": "code",
   "execution_count": 16,
   "id": "7584b0aa",
   "metadata": {
    "execution": {
     "iopub.execute_input": "2024-12-22T16:40:11.602737Z",
     "iopub.status.busy": "2024-12-22T16:40:11.602040Z",
     "iopub.status.idle": "2024-12-22T16:40:11.605947Z",
     "shell.execute_reply": "2024-12-22T16:40:11.605226Z"
    },
    "papermill": {
     "duration": 0.016047,
     "end_time": "2024-12-22T16:40:11.607583",
     "exception": false,
     "start_time": "2024-12-22T16:40:11.591536",
     "status": "completed"
    },
    "tags": []
   },
   "outputs": [],
   "source": [
    "#wandb.finish()\n",
    "#model.config.use_cache = True"
   ]
  },
  {
   "attachments": {
    "74f92214-74e4-404a-a0ea-43d046ae9de1.png": {
     "image/png": "[encoded data removed]"
    }
   },
   "cell_type": "markdown",
   "id": "277c244d",
   "metadata": {
    "papermill": {
     "duration": 0.009188,
     "end_time": "2024-12-22T16:40:11.626142",
     "exception": false,
     "start_time": "2024-12-22T16:40:11.616954",
     "status": "completed"
    },
    "tags": []
   },
   "source": [
    "![Schermafbeelding 2024-12-15 143657.png](attachment:74f92214-74e4-404a-a0ea-43d046ae9de1.png)"
   ]
  },
  {
   "cell_type": "markdown",
   "id": "ee9c9301",
   "metadata": {
    "papermill": {
     "duration": 0.009244,
     "end_time": "2024-12-22T16:40:11.644773",
     "exception": false,
     "start_time": "2024-12-22T16:40:11.635529",
     "status": "completed"
    },
    "tags": []
   },
   "source": [
    "The fine-tuned model is saved and pushed to the Hugging Face Hub. The Hub API will automatically create the repository and store the adapter file. This code is commented out as well since the model was trained in a forked notebook."
   ]
  },
  {
   "cell_type": "code",
   "execution_count": 17,
   "id": "8d319d48",
   "metadata": {
    "execution": {
     "iopub.execute_input": "2024-12-22T16:40:11.664527Z",
     "iopub.status.busy": "2024-12-22T16:40:11.664291Z",
     "iopub.status.idle": "2024-12-22T16:40:11.892585Z",
     "shell.execute_reply": "2024-12-22T16:40:11.891419Z"
    },
    "papermill": {
     "duration": 0.240377,
     "end_time": "2024-12-22T16:40:11.894477",
     "exception": false,
     "start_time": "2024-12-22T16:40:11.654100",
     "status": "completed"
    },
    "tags": []
   },
   "outputs": [
    {
     "data": {
      "text/plain": [
       "('/kaggle/working/llama-3-chat-empathy-25000-3e/tokenizer_config.json',\n",
       " '/kaggle/working/llama-3-chat-empathy-25000-3e/special_tokens_map.json',\n",
       " '/kaggle/working/llama-3-chat-empathy-25000-3e/tokenizer.json')"
      ]
     },
     "execution_count": 17,
     "metadata": {},
     "output_type": "execute_result"
    }
   ],
   "source": [
    "#trainer.model.save_pretrained(new_model)\n",
    "tokenizer.save_pretrained(new_model)\n",
    "#trainer.model.push_to_hub(new_model, use_temp_dir=False)"
   ]
  },
  {
   "cell_type": "markdown",
   "id": "b116adc9",
   "metadata": {
    "papermill": {
     "duration": 0.009641,
     "end_time": "2024-12-22T16:40:11.914134",
     "exception": false,
     "start_time": "2024-12-22T16:40:11.904493",
     "status": "completed"
    },
    "tags": []
   },
   "source": [
    "We test our model to see if everthing is loaded correctly:"
   ]
  },
  {
   "cell_type": "code",
   "execution_count": 18,
   "id": "b286a55c",
   "metadata": {
    "execution": {
     "iopub.execute_input": "2024-12-22T16:40:11.934578Z",
     "iopub.status.busy": "2024-12-22T16:40:11.934257Z",
     "iopub.status.idle": "2024-12-22T16:40:17.330325Z",
     "shell.execute_reply": "2024-12-22T16:40:17.329484Z"
    },
    "papermill": {
     "duration": 5.408424,
     "end_time": "2024-12-22T16:40:17.332182",
     "exception": false,
     "start_time": "2024-12-22T16:40:11.923758",
     "status": "completed"
    },
    "tags": []
   },
   "outputs": [
    {
     "name": "stderr",
     "output_type": "stream",
     "text": [
      "Device set to use cuda:0\n"
     ]
    },
    {
     "name": "stdout",
     "output_type": "stream",
     "text": [
      "{'role': 'assistant', 'content': \"I'm so sorry to hear that you're feeling hurt. It can be really tough to feel that way, especially when we're already feeling overwhelmed. Can you tell me more about what's been going on and how you're feeling? Sometimes talking about it can help us process our emotions and feel a little better. I'm here to listen and support you.\"}\n"
     ]
    }
   ],
   "source": [
    "pipe = pipeline(\n",
    "    \"text-generation\",\n",
    "    model=new_model,\n",
    "    tokenizer=tokenizer,\n",
    "    device_map=\"auto\",\n",
    ")\n",
    "messages = [\n",
    "    {\"role\": \"system\", \"content\": \"You are an AI assistant specialized in dementia care. Respond patiently, clearly, and empathetically to questions. Reassure and guide the user gently while avoiding complex language.\"},\n",
    "    {\"role\": \"user\", \"content\": \"I am hurt\"},\n",
    "]\n",
    "outputs = pipe(\n",
    "    messages,\n",
    "    max_new_tokens=128,\n",
    "    do_sample=True\n",
    ")\n",
    "print(outputs[0][\"generated_text\"][-1])"
   ]
  },
  {
   "cell_type": "markdown",
   "id": "0c99bcbb",
   "metadata": {
    "papermill": {
     "duration": 0.009585,
     "end_time": "2024-12-22T16:40:17.351985",
     "exception": false,
     "start_time": "2024-12-22T16:40:17.342400",
     "status": "completed"
    },
    "tags": []
   },
   "source": [
    "# 5. Creating The Classification Model\n",
    "\n",
    "**To assess the capabilities of the fine-tuned model, a classification model is employed to differentiate between responses generated by the fine-tuned and base versions of the LLaMA 3 model.** By training the classifier on a dataset of responses to dementia-related questions, the model attempts to identify patterns that are different between the responses. This step serves as a quantitative evaluation of the fine-tuning process, providing insights into the effectiveness of the modifications in enhancing the model’s qualities."
   ]
  },
  {
   "cell_type": "markdown",
   "id": "0efd09bc",
   "metadata": {
    "papermill": {
     "duration": 0.009508,
     "end_time": "2024-12-22T16:40:17.371175",
     "exception": false,
     "start_time": "2024-12-22T16:40:17.361667",
     "status": "completed"
    },
    "tags": []
   },
   "source": [
    "### 5.1 Generating the questions and the responses\n",
    "\n",
    "Both models were evaluated on dementia-related questions to generate distinct outputs. The questions have been generated by GPT4o. The actual code for generating these responses was executed in a separate notebook. For simplicity and ease of viewing, the resulting dataset will be imported here, and the code used to produce the responses is displayed below, commented out. "
   ]
  },
  {
   "cell_type": "code",
   "execution_count": 19,
   "id": "3ba5bd7c",
   "metadata": {
    "execution": {
     "iopub.execute_input": "2024-12-22T16:40:17.392267Z",
     "iopub.status.busy": "2024-12-22T16:40:17.391919Z",
     "iopub.status.idle": "2024-12-22T16:40:17.396312Z",
     "shell.execute_reply": "2024-12-22T16:40:17.395407Z"
    },
    "papermill": {
     "duration": 0.017114,
     "end_time": "2024-12-22T16:40:17.397923",
     "exception": false,
     "start_time": "2024-12-22T16:40:17.380809",
     "status": "completed"
    },
    "tags": []
   },
   "outputs": [],
   "source": [
    "# File path to the CSV containing dementia-related questions\n",
    "#file_path = \"/kaggle/input/dementia-related-questions/questions.csv\"\n",
    "\n",
    "# Read the CSV file into a DataFrame\n",
    "#df = pd.read_csv(file_path)\n",
    "\n",
    "# Display the first few rows of the DataFrame\n",
    "#print(df.head())"
   ]
  },
  {
   "cell_type": "code",
   "execution_count": 20,
   "id": "05f7564f",
   "metadata": {
    "execution": {
     "iopub.execute_input": "2024-12-22T16:40:17.418732Z",
     "iopub.status.busy": "2024-12-22T16:40:17.418477Z",
     "iopub.status.idle": "2024-12-22T16:40:17.423034Z",
     "shell.execute_reply": "2024-12-22T16:40:17.422337Z"
    },
    "papermill": {
     "duration": 0.016785,
     "end_time": "2024-12-22T16:40:17.424651",
     "exception": false,
     "start_time": "2024-12-22T16:40:17.407866",
     "status": "completed"
    },
    "tags": []
   },
   "outputs": [],
   "source": [
    "#import time\n",
    "# Initialize models\n",
    "#model_id = \"/kaggle/input/llama-3.2/transformers/1b-instruct/1\"\n",
    "#model = \"/kaggle/working/llama-3-chat-empathy-25000-3e\"\n",
    "\n",
    "#pipe = pipeline(\n",
    "#    \"text-generation\",\n",
    "#    model=model_id,\n",
    "#    device_map=\"auto\",\n",
    "#    torch_dtype=\"auto\"\n",
    "#)\n",
    "\n",
    "#pipe_new = pipeline(\n",
    "#    \"text-generation\",\n",
    "#    model=model,\n",
    "#    device_map=\"auto\",\n",
    "#    torch_dtype=\"auto\"\n",
    "#)\n",
    "\n",
    "\n",
    "# Start the timer\n",
    "#start_time = time.time()\n",
    "\n",
    "# Generate responses for each question using both models\n",
    "#responses = []  # To store all rows for the DataFrame\n",
    "#for question in questions:\n",
    "    # Prepare the prompt for both models\n",
    "#    message = [\n",
    "#        {\"role\": \"system\", \"content\": \"You are an AI assistant specialized in dementia care. Respond patiently, clearly, and empathetically to questions. Reassure and guide the user gently while avoiding complex language.\"},\n",
    "#        {\"role\": \"user\", \"content\": question}\n",
    "#    ]\n",
    "    \n",
    "#    # Generate response from the first model\n",
    "#    response_1 = pipe(message, max_new_tokens=128, do_sample=True)[0][\"generated_text\"][-1]\n",
    "#    responses.append({\n",
    "#        \"Question\": question,\n",
    "#        \"Response\": response_1,\n",
    "#        \"Model\": \"Base_Model\"\n",
    "#    })\n",
    "#    \n",
    "#    # Generate response from the second model\n",
    "#    response_2 = pipe_new(message, max_new_tokens=128, do_sample=True)[0][\"generated_text\"][-1]\n",
    "#    responses.append({\n",
    "#        \"Question\": question,\n",
    "#        \"Response\": response_2,\n",
    "#        \"Model\": \"Trained_Model\"\n",
    "#    })\n",
    "#\n",
    "# Create a DataFrame\n",
    "#df = pd.DataFrame(responses)\n",
    "\n",
    "# End the timer\n",
    "#end_time = time.time()\n",
    "\n",
    "# Print DataFrame and execution time\n",
    "#print(df)\n",
    "#print(f\"Execution time: {end_time - start_time:.4f} seconds\")\n",
    "#\n",
    "# Save to a CSV if needed\n",
    "#df.to_csv(\"model_responses_comparison.csv\", index=False)''"
   ]
  },
  {
   "cell_type": "markdown",
   "id": "12d6fa89",
   "metadata": {
    "papermill": {
     "duration": 0.009626,
     "end_time": "2024-12-22T16:40:17.444092",
     "exception": false,
     "start_time": "2024-12-22T16:40:17.434466",
     "status": "completed"
    },
    "tags": []
   },
   "source": [
    "### 5.2 Data Preparation\n",
    "\n",
    "Cleaning, tokenizing and splitting the dataset into a train and test set, to make it suitable for training."
   ]
  },
  {
   "cell_type": "code",
   "execution_count": 21,
   "id": "6cb7e266",
   "metadata": {
    "execution": {
     "iopub.execute_input": "2024-12-22T16:40:17.464641Z",
     "iopub.status.busy": "2024-12-22T16:40:17.464385Z",
     "iopub.status.idle": "2024-12-22T16:40:17.515226Z",
     "shell.execute_reply": "2024-12-22T16:40:17.514177Z"
    },
    "papermill": {
     "duration": 0.062893,
     "end_time": "2024-12-22T16:40:17.516700",
     "exception": false,
     "start_time": "2024-12-22T16:40:17.453807",
     "status": "completed"
    },
    "tags": []
   },
   "outputs": [
    {
     "name": "stdout",
     "output_type": "stream",
     "text": [
      "         Question                                           Response  \\\n",
      "0     Where am I?  You are at home. You're safe and sound here. I...   \n",
      "1     Where am I?  You're in a comfortable and familiar space. Yo...   \n",
      "2    Who are you?  Hello! I'm an AI assistant, and I'm here to he...   \n",
      "3    Who are you?  I'm an AI assistant, and I'm here to help you ...   \n",
      "4  Why am I here?  It sounds like you're feeling a bit uncertain ...   \n",
      "\n",
      "           Model  \n",
      "0     Base_Model  \n",
      "1  Trained_Model  \n",
      "2     Base_Model  \n",
      "3  Trained_Model  \n",
      "4     Base_Model  \n"
     ]
    }
   ],
   "source": [
    "# File path to the CSV inside the directory\n",
    "file_path = \"/kaggle/input/generated-responses/model_responses_comparison (2).csv\"\n",
    "\n",
    "# Read the CSV file into a DataFrame\n",
    "df = pd.read_csv(file_path)\n",
    "\n",
    "import re\n",
    "\n",
    "# Function to extract text within brackets\n",
    "def extract_text_from_brackets(Response):\n",
    "    match = re.search(r\"'content': \\\"(.*?)\\\"\", Response)\n",
    "    return match.group(1) if match else None\n",
    "\n",
    "# Apply the function to the Response column\n",
    "df['Response'] = df['Response'].apply(extract_text_from_brackets)\n",
    "\n",
    "print(df[:5])"
   ]
  },
  {
   "cell_type": "code",
   "execution_count": 22,
   "id": "cb014164",
   "metadata": {
    "execution": {
     "iopub.execute_input": "2024-12-22T16:40:17.537400Z",
     "iopub.status.busy": "2024-12-22T16:40:17.537152Z",
     "iopub.status.idle": "2024-12-22T16:40:18.161298Z",
     "shell.execute_reply": "2024-12-22T16:40:18.160586Z"
    },
    "papermill": {
     "duration": 0.636655,
     "end_time": "2024-12-22T16:40:18.163366",
     "exception": false,
     "start_time": "2024-12-22T16:40:17.526711",
     "status": "completed"
    },
    "tags": []
   },
   "outputs": [],
   "source": [
    "#tokenize and encode labels\n",
    "from transformers import TFAutoModel\n",
    "\n",
    "#combine the prompt and response so model is able to better understand context\n",
    "df[\"combined\"] = df[\"Question\"].astype(str) + \" [SEP] \" + df[\"Response\"].astype(str)\n",
    "\n",
    "#tokenize\n",
    "tokenized = tokenizer(\n",
    "    list(df[\"combined\"]),\n",
    "    padding = True,\n",
    "    truncation = True,\n",
    "    max_length = 128,\n",
    "    return_tensors = \"tf\"\n",
    ")\n",
    "\n",
    "#extract token ID's\n",
    "X = tokenized[\"input_ids\"]\n",
    "attention_mask = tokenized[\"attention_mask\"]\n",
    "\n",
    "#transform labels to 0 (base model) and 1 (new model)\n",
    "from sklearn.preprocessing import LabelEncoder\n",
    "\n",
    "label_encoder = LabelEncoder()\n",
    "y = label_encoder.fit_transform(df[\"Model\"])"
   ]
  },
  {
   "cell_type": "code",
   "execution_count": 23,
   "id": "7737649c",
   "metadata": {
    "execution": {
     "iopub.execute_input": "2024-12-22T16:40:18.184735Z",
     "iopub.status.busy": "2024-12-22T16:40:18.184449Z",
     "iopub.status.idle": "2024-12-22T16:40:18.204619Z",
     "shell.execute_reply": "2024-12-22T16:40:18.203792Z"
    },
    "papermill": {
     "duration": 0.032401,
     "end_time": "2024-12-22T16:40:18.206185",
     "exception": false,
     "start_time": "2024-12-22T16:40:18.173784",
     "status": "completed"
    },
    "tags": []
   },
   "outputs": [],
   "source": [
    "#split into test and training, do same for attention masks\n",
    "from sklearn.model_selection import train_test_split\n",
    "\n",
    "# Convert to numpy arrays before splitting\n",
    "X_numpy = X.numpy()  # Convert TensorFlow tensor to NumPy array\n",
    "attention_mask_numpy = attention_mask.numpy()\n",
    "\n",
    "#splitting using train_test_split()\n",
    "X_train, X_test, y_train, y_test = train_test_split(X_numpy,\n",
    "                                                    y,\n",
    "                                                    test_size = 0.2, \n",
    "                                                    random_state = 42)\n",
    "\n",
    "attention_mask_train, attention_mask_test = train_test_split(\n",
    "    attention_mask_numpy, test_size=0.2, random_state=42\n",
    ")"
   ]
  },
  {
   "cell_type": "markdown",
   "id": "b37af3e9",
   "metadata": {
    "papermill": {
     "duration": 0.009695,
     "end_time": "2024-12-22T16:40:18.225715",
     "exception": false,
     "start_time": "2024-12-22T16:40:18.216020",
     "status": "completed"
    },
    "tags": []
   },
   "source": [
    "### 5.3 Building the classifier\n",
    "\n",
    "In this section, we define and run a neural network using TensorFlow's Keras API. Provided is a breakdown of the model:\n",
    "\n",
    "- **Model Architecture**: \n",
    "  The model is a sequential neural network, meaning the layers are added in order from input to output. The input has shape `(128,)`.  \n",
    "  - The first layer has **64 neurons** and uses the ReLU activation function to introduce non-linearity.  \n",
    "  - The second layer has **32 neurons**, also using ReLU activation.  \n",
    "  - The final layer is the output layer with **1 neuron** and a sigmoid activation function, which outputs a probability value for binary classification tasks, making it suitable for our 'base model' or 'trained model' task.\n",
    "\n",
    "- **Model Compilation**: \n",
    "  - We use the **Adam optimizer**, which adapts the learning rate during training for better convergence.  \n",
    "  - The **binary_crossentropy loss function** is well-suited for binary classification, as it measures the difference between predicted and actual probabilities.  \n",
    "  - The **binary_accuracy metric** is added to monitor the model's performance during training, showing the proportion of correctly predicted samples.\n"
   ]
  },
  {
   "cell_type": "code",
   "execution_count": 24,
   "id": "4e2d32a6",
   "metadata": {
    "execution": {
     "iopub.execute_input": "2024-12-22T16:40:18.246571Z",
     "iopub.status.busy": "2024-12-22T16:40:18.246318Z",
     "iopub.status.idle": "2024-12-22T16:40:18.367882Z",
     "shell.execute_reply": "2024-12-22T16:40:18.366971Z"
    },
    "papermill": {
     "duration": 0.134127,
     "end_time": "2024-12-22T16:40:18.369686",
     "exception": false,
     "start_time": "2024-12-22T16:40:18.235559",
     "status": "completed"
    },
    "tags": []
   },
   "outputs": [
    {
     "name": "stderr",
     "output_type": "stream",
     "text": [
      "/opt/conda/lib/python3.10/site-packages/keras/src/layers/core/dense.py:87: UserWarning: Do not pass an `input_shape`/`input_dim` argument to a layer. When using Sequential models, prefer using an `Input(shape)` object as the first layer in the model instead.\n",
      "  super().__init__(activity_regularizer=activity_regularizer, **kwargs)\n"
     ]
    }
   ],
   "source": [
    "import tensorflow.keras as tf_keras\n",
    "from tensorflow.keras import layers\n",
    "\n",
    "model = tf_keras.Sequential([\n",
    "    layers.Dense(64, activation='relu', input_shape=(128,)),\n",
    "    layers.Dense(32, activation='relu'),\n",
    "    layers.Dense(1, activation='sigmoid')\n",
    "])\n",
    "\n",
    "model.compile(\n",
    "    optimizer='adam',\n",
    "    loss='binary_crossentropy',\n",
    "    metrics=['binary_accuracy'],\n",
    ")"
   ]
  },
  {
   "cell_type": "code",
   "execution_count": 25,
   "id": "ad0866f4",
   "metadata": {
    "execution": {
     "iopub.execute_input": "2024-12-22T16:40:18.390509Z",
     "iopub.status.busy": "2024-12-22T16:40:18.390234Z",
     "iopub.status.idle": "2024-12-22T16:40:25.154597Z",
     "shell.execute_reply": "2024-12-22T16:40:25.153616Z"
    },
    "papermill": {
     "duration": 6.777203,
     "end_time": "2024-12-22T16:40:25.156856",
     "exception": false,
     "start_time": "2024-12-22T16:40:18.379653",
     "status": "completed"
    },
    "tags": []
   },
   "outputs": [
    {
     "name": "stderr",
     "output_type": "stream",
     "text": [
      "WARNING: All log messages before absl::InitializeLog() is called are written to STDERR\n",
      "I0000 00:00:1734885619.257894     222 service.cc:145] XLA service 0x784718007560 initialized for platform CUDA (this does not guarantee that XLA will be used). Devices:\n",
      "I0000 00:00:1734885619.257955     222 service.cc:153]   StreamExecutor device (0): Tesla P100-PCIE-16GB, Compute Capability 6.0\n",
      "I0000 00:00:1734885620.156849     222 device_compiler.h:188] Compiled cluster using XLA!  This line is logged at most once for the lifetime of the process.\n"
     ]
    }
   ],
   "source": [
    "# define early stopping \n",
    "from tf_keras.callbacks import EarlyStopping\n",
    "\n",
    "early_stopping = EarlyStopping(\n",
    "    patience=5,\n",
    "    min_delta=0.001,\n",
    "    restore_best_weights=True,\n",
    ")\n",
    "\n",
    "# train\n",
    "history = model.fit(\n",
    "    X_train, y_train,\n",
    "    validation_data=(X_test, y_test),\n",
    "    batch_size=32,\n",
    "    epochs=50,\n",
    "    callbacks=[early_stopping],\n",
    "    verbose=0, # verbose to hide the output if needed\n",
    ")"
   ]
  },
  {
   "cell_type": "code",
   "execution_count": 26,
   "id": "7fac87d1",
   "metadata": {
    "execution": {
     "iopub.execute_input": "2024-12-22T16:40:25.178703Z",
     "iopub.status.busy": "2024-12-22T16:40:25.178413Z",
     "iopub.status.idle": "2024-12-22T16:40:25.683791Z",
     "shell.execute_reply": "2024-12-22T16:40:25.682928Z"
    },
    "papermill": {
     "duration": 0.517982,
     "end_time": "2024-12-22T16:40:25.685466",
     "exception": false,
     "start_time": "2024-12-22T16:40:25.167484",
     "status": "completed"
    },
    "tags": []
   },
   "outputs": [
    {
     "name": "stdout",
     "output_type": "stream",
     "text": [
      "Best Validation Loss: 571.3126\n",
      "Best Validation Accuracy: 0.5300\n"
     ]
    },
    {
     "data": {
      "image/png": "[encoded data removed]",
      "text/plain": [
       "<Figure size 640x480 with 1 Axes>"
      ]
     },
     "metadata": {},
     "output_type": "display_data"
    },
    {
     "data": {
      "image/png": "[encoded data removed]",
      "text/plain": [
       "<Figure size 640x480 with 1 Axes>"
      ]
     },
     "metadata": {},
     "output_type": "display_data"
    }
   ],
   "source": [
    "# plot\n",
    "history_df = pd.DataFrame(history.history)\n",
    "# Start the plot at epoch 5\n",
    "history_df.loc[5:, ['loss', 'val_loss']].plot()\n",
    "history_df.loc[5:, ['binary_accuracy', 'val_binary_accuracy']].plot()\n",
    "\n",
    "print((\"Best Validation Loss: {:0.4f}\" +\\\n",
    "      \"\\nBest Validation Accuracy: {:0.4f}\")\\\n",
    "      .format(history_df['val_loss'].min(), \n",
    "              history_df['val_binary_accuracy'].max()))"
   ]
  },
  {
   "cell_type": "markdown",
   "id": "1224fcda",
   "metadata": {
    "papermill": {
     "duration": 0.010895,
     "end_time": "2024-12-22T16:40:25.708118",
     "exception": false,
     "start_time": "2024-12-22T16:40:25.697223",
     "status": "completed"
    },
    "tags": []
   },
   "source": [
    "## Model Evaluation, NNC \n",
    "\n",
    "**The classification model achieved a correct classification rate of approximately 53%, which is only slightly better than guessing.** This result indicates that the classifier struggled to distinguish between responses generated by the fine-tuned model and those from the base LLaMA 3 model. This suggests that the base model was pre-trained on datasets that inherently promoted understanding and user-friendly interactions, potentially minimizing the apparent impact of fine-tuning on the empathetic quality of responses.\n",
    "\n",
    "**This finding has broader implications for developing empathetic AI systems. It highlights the importance of thoroughly understanding a model's baseline capabilities before investing resources in further fine-tuning.** Additionally, the results suggest that when a pre-trained model is already well-optimized for general empathetic interactions, fine-tuning efforts may need to focus on tailoring responses to specific contexts or populations, rather than attempting to enhance general empathy."
   ]
  },
  {
   "cell_type": "markdown",
   "id": "5df6c624",
   "metadata": {
    "papermill": {
     "duration": 0.01092,
     "end_time": "2024-12-22T16:40:25.730021",
     "exception": false,
     "start_time": "2024-12-22T16:40:25.719101",
     "status": "completed"
    },
    "tags": []
   },
   "source": [
    "# 6. Integrating Patient Data \n",
    "\n",
    "To enhance the relevance and personalization of chatbot interactions, patient-specific data is integrated into the response generation process. By utilizing a database of sample patient information, the system retrieves details based on a unique patient ID associated with each query. This approach ensures that responses are not only empathetic but also tailored to the individual’s context, fostering more meaningful and supportive communication. \n",
    "\n",
    "We consulted with Pulles, an experienced nursing home employee, to gather insights into the effective use of EMMA. Pulles shared how EMMA could be particularly useful when guiding patients to use the application for addressing their questions. She also suggested that EMMA might take the form of a (mini) robot in the future to enhance engagement. While this idea is exciting for future development, it falls outside the scope of our  project due to limited resources.\n",
    "\n",
    "The feedback provided by Pulles regarding frequently asked questions has been incorporated into the patient database and through example queries and responses, however, because of limited time this database is far from a finsished product, and servers as a demonstrative outline of what could be. This is also why the database is directly integrated without use of tokenization and embedding; this would be the next step in our project. Below, we create the sample patient database:\n"
   ]
  },
  {
   "cell_type": "code",
   "execution_count": 27,
   "id": "e2cb1f6a",
   "metadata": {
    "execution": {
     "iopub.execute_input": "2024-12-22T16:40:25.754229Z",
     "iopub.status.busy": "2024-12-22T16:40:25.753912Z",
     "iopub.status.idle": "2024-12-22T16:40:25.760349Z",
     "shell.execute_reply": "2024-12-22T16:40:25.759506Z"
    },
    "papermill": {
     "duration": 0.021052,
     "end_time": "2024-12-22T16:40:25.762074",
     "exception": false,
     "start_time": "2024-12-22T16:40:25.741022",
     "status": "completed"
    },
    "tags": []
   },
   "outputs": [],
   "source": [
    "# Define patient data\n",
    "data = {\n",
    "    \"PatientID\": [1, 2, 3],\n",
    "    \"Name\": [\"Sean McElhenny\", \"Isa Monkau\", \"Marek Lazar\"],\n",
    "    \"Age\": [26, 14, 75],\n",
    "    \"Gender\": [\"Male\", \"Female\", \"Male\"],\n",
    "    \"FamilyDetails\": [\n",
    "        '{\"Spouse\": \"Sophie\", \"Children\": [\"Bismarck\"], \"FamilyLocation\": \"Sophie and Bismarck live in Amsterdam West, Oosterparkstraat\"}',\n",
    "        '{\"Spouse\": \"Floor\", \"Children\": [\"Lara\", \"Tara\"], \"FamilyLocation\": \"Floor, Lara, and Tara live in Amsterdam Oost, Javaplein\"}',\n",
    "        '{\"Spouse\": \"Jessica\", \"Children\": [\"Max\"], \"FamilyLocation\": \"Jessica and Max live in Amsterdam Noord, NDSM-werf\"}'\n",
    "    ],\n",
    "    \"MedicalHistory\": [\n",
    "        '{\"Conditions\": [\"Diabetes\", \"Hypertension\"], \"Medications\": [\"Metformin\", \"Lisinopril\"]}',\n",
    "        '{\"Conditions\": [\"Arthritis\"], \"Medications\": [\"Ibuprofen\"]}',\n",
    "        '{\"Conditions\": [\"Asthma\"], \"Medications\": [\"Albuterol\"]}'\n",
    "    ],\n",
    "    \"Preferences\": [\n",
    "        '{\"Hobbies\": [\"Gardening\", \"Chess\"], \"FavoriteColor\": \"Green\"}',\n",
    "        '{\"Hobbies\": [\"Reading\", \"Cooking\"], \"FavoriteColor\": \"Pink\"}',\n",
    "        '{\"Hobbies\": [\"Fishing\", \"Golf\"], \"FavoriteColor\": \"Yellow\"}'\n",
    "    ],\n",
    "    \"Residence\": [\n",
    "        \"Nursing home in Amsterdam Oost, Swelickstraat\",\n",
    "        \"Nursing home in Amsterdam Oost, Swelickstraat\",\n",
    "        \"Nursing home in Amsterdam Oost, Swelickstraat\"\n",
    "    ],\n",
    "    \"DailyItinerary\": [\n",
    "        '{\"9am\": \"Wake up\", \"10am\": \"Breakfast in the canteen\", \"2pm\": \"Lunch\", \"6pm\": \"Dinner\", \"Wednesday\": \"Family visits\"}',\n",
    "        '{\"9am\": \"Wake up\", \"10am\": \"Breakfast in the canteen\", \"2pm\": \"Lunch\", \"6pm\": \"Dinner\", \"Wednesday\": \"Family visits\"}',\n",
    "        '{\"9am\": \"Wake up\", \"10am\": \"Breakfast in the canteen\", \"2pm\": \"Lunch\", \"6pm\": \"Dinner\", \"Wednesday\": \"Family visits\"}'\n",
    "    ]\n",
    "}\n",
    "\n",
    "# Create DataFrame\n",
    "patients_df = pd.DataFrame(data)"
   ]
  },
  {
   "cell_type": "markdown",
   "id": "3a812998",
   "metadata": {
    "papermill": {
     "duration": 0.010985,
     "end_time": "2024-12-22T16:40:25.784369",
     "exception": false,
     "start_time": "2024-12-22T16:40:25.773384",
     "status": "completed"
    },
    "tags": []
   },
   "source": [
    "We retrieve patient data using the provided patient ID to link the relevant information to the patient interacting with the chatbot."
   ]
  },
  {
   "cell_type": "code",
   "execution_count": 28,
   "id": "f7e48fa4",
   "metadata": {
    "execution": {
     "iopub.execute_input": "2024-12-22T16:40:25.808274Z",
     "iopub.status.busy": "2024-12-22T16:40:25.807602Z",
     "iopub.status.idle": "2024-12-22T16:40:25.811988Z",
     "shell.execute_reply": "2024-12-22T16:40:25.811192Z"
    },
    "papermill": {
     "duration": 0.01809,
     "end_time": "2024-12-22T16:40:25.813526",
     "exception": false,
     "start_time": "2024-12-22T16:40:25.795436",
     "status": "completed"
    },
    "tags": []
   },
   "outputs": [],
   "source": [
    "def retrieve_patient_data(patient_id):\n",
    "    # Fetch all information for the given PatientID\n",
    "    patient_data = patients_df[patients_df[\"PatientID\"] == patient_id]\n",
    "    if patient_data.empty:\n",
    "        return None\n",
    "    # Convert patient data to a dictionary for easy use\n",
    "    return patient_data.iloc[0].to_dict()"
   ]
  },
  {
   "cell_type": "code",
   "execution_count": 29,
   "id": "c09c305c",
   "metadata": {
    "execution": {
     "iopub.execute_input": "2024-12-22T16:40:25.836940Z",
     "iopub.status.busy": "2024-12-22T16:40:25.836664Z",
     "iopub.status.idle": "2024-12-22T16:40:25.841258Z",
     "shell.execute_reply": "2024-12-22T16:40:25.840408Z"
    },
    "papermill": {
     "duration": 0.018138,
     "end_time": "2024-12-22T16:40:25.842816",
     "exception": false,
     "start_time": "2024-12-22T16:40:25.824678",
     "status": "completed"
    },
    "tags": []
   },
   "outputs": [],
   "source": [
    "def prepare_context(patient_data):\n",
    "    if not patient_data:\n",
    "        return \"Patient data not found\"\n",
    "    # Format patient data into a context string using the updated database fields\n",
    "    context = (\n",
    "        f\"Patient Name: {patient_data['Name']}\\n\"\n",
    "        f\"Age: {patient_data['Age']}\\n\"\n",
    "        f\"Gender: {patient_data['Gender']}\\n\"\n",
    "        f\"Family Details: {patient_data['FamilyDetails']}\\n\"\n",
    "        f\"Medical History: {patient_data['MedicalHistory']}\\n\"\n",
    "        f\"Preferences: {patient_data['Preferences']}\\n\"\n",
    "        f\"Residence: {patient_data['Residence']}\\n\"\n",
    "        f\"Daily Itinerary: {patient_data['DailyItinerary']}\\n\"\n",
    "    )\n",
    "    return context"
   ]
  },
  {
   "cell_type": "markdown",
   "id": "5aaa43ca",
   "metadata": {
    "papermill": {
     "duration": 0.012825,
     "end_time": "2024-12-22T16:40:25.866783",
     "exception": false,
     "start_time": "2024-12-22T16:40:25.853958",
     "status": "completed"
    },
    "tags": []
   },
   "source": [
    "Now, since we prepared the context and the patient ID we can pass this to the language model. We define the needed pipeline and create a function to generate a response."
   ]
  },
  {
   "cell_type": "code",
   "execution_count": 30,
   "id": "b59c33e7",
   "metadata": {
    "execution": {
     "iopub.execute_input": "2024-12-22T16:40:25.891614Z",
     "iopub.status.busy": "2024-12-22T16:40:25.890751Z",
     "iopub.status.idle": "2024-12-22T16:40:28.642428Z",
     "shell.execute_reply": "2024-12-22T16:40:28.641533Z"
    },
    "papermill": {
     "duration": 2.766196,
     "end_time": "2024-12-22T16:40:28.644226",
     "exception": false,
     "start_time": "2024-12-22T16:40:25.878030",
     "status": "completed"
    },
    "tags": []
   },
   "outputs": [
    {
     "name": "stderr",
     "output_type": "stream",
     "text": [
      "Device set to use cpu\n"
     ]
    }
   ],
   "source": [
    "#define pipeline\n",
    "pipe = pipeline(\n",
    "    \"text-generation\",\n",
    "    model=new_model,\n",
    "    tokenizer=tokenizer,\n",
    "    device_map=\"auto\",\n",
    ")"
   ]
  },
  {
   "cell_type": "markdown",
   "id": "e74637ff",
   "metadata": {
    "papermill": {
     "duration": 0.011135,
     "end_time": "2024-12-22T16:40:28.667176",
     "exception": false,
     "start_time": "2024-12-22T16:40:28.656041",
     "status": "completed"
    },
    "tags": []
   },
   "source": [
    "After testing the responses that our integrated model gave we decided to improve our system prompt: \"You are an AI assistant designed to provide support and information for individuals living with dementia. Respond patiently, clearly, and with empathy, using simple and easy-to-understand language. Be reassuring, warm, and respectful, avoiding overwhelming details or complex instructions. Gently guide the person through their questions or concerns, understanding that they may have memory difficulties or need extra clarification. You do not ask questions to the user.\" We also decided to add some examples to improve the text generating. \n",
    "\n",
    "We did this because often our model would ask the user questions, like what is the age of your children, this can be very confronting for patients that do not remember. We did find that although we included this in the prompt, the model still sometimes asked questions, furter finetuning and research would be needed to adress this issue sufficiently. "
   ]
  },
  {
   "cell_type": "code",
   "execution_count": 31,
   "id": "e9292051",
   "metadata": {
    "execution": {
     "iopub.execute_input": "2024-12-22T16:40:28.691144Z",
     "iopub.status.busy": "2024-12-22T16:40:28.690808Z",
     "iopub.status.idle": "2024-12-22T16:40:28.698045Z",
     "shell.execute_reply": "2024-12-22T16:40:28.697187Z"
    },
    "papermill": {
     "duration": 0.021468,
     "end_time": "2024-12-22T16:40:28.699716",
     "exception": false,
     "start_time": "2024-12-22T16:40:28.678248",
     "status": "completed"
    },
    "tags": []
   },
   "outputs": [],
   "source": [
    "def generate_response(user_query, patient_id, pipe):\n",
    "    # Step 1: Retrieve patient data\n",
    "    patient_data = retrieve_patient_data(patient_id)\n",
    "    if not patient_data:\n",
    "        return \"Sorry, I couldn't find your information.\"\n",
    "\n",
    "    # Step 2: Prepare context\n",
    "    context = prepare_context(patient_data)\n",
    "\n",
    "    # Step 3: Combine query and context\n",
    "    prompt = f\"Context:\\n{context}\\n\\nQuestion: {user_query}\\nAnswer:\"\n",
    "    \n",
    "    # Step 4: Use the pipeline to generate a response\n",
    "    messages = [\n",
    "        {\"role\": \"system\", \"content\": \"You are an AI assistant designed to provide support and information for individuals living with dementia. Respond patiently, clearly, and with empathy, using simple and easy-to-understand language. Be reassuring, warm, and respectful, avoiding overwhelming details or complex instructions. Gently guide the person through their questions or concerns, understanding that they may have memory difficulties or need extra clarification. You do not ask questions to the user.\"},\n",
    "        {\"role\": \"user\", \"content\": prompt},\n",
    "    ]\n",
    "    outputs = pipe(messages, max_new_tokens=128, do_sample=True)\n",
    "    \n",
    "    # Example queries and responses\n",
    "    examples = {\n",
    "        \"Where am I?\": \"You are at the nursing home in Amsterdam Oost, Swelickstraat. It's a safe and comfortable place for you.\",\n",
    "        \"Where is Tim?\": \"Tim is currently at work, but he will visit you on Wednesday, just like he usually does.\",\n",
    "        \"Can I stay here?\": \"Yes, this is your home, and we're here to take care of you. You can stay as long as you need.\",\n",
    "        \"Do I need to pay?\": \"No, you don't need to worry about payments. Everything is being taken care of for you.\",\n",
    "        \"Where is my family?\": \"Your family, including your spouse Lisa and your child Max, live in a house in Utrecht. You used to live there with them, and they come to visit you every Wednesday.\",\n",
    "        \"Whats going on?\": \"Everything is okay. You have a condition called dementia, which makes it a little harder for you to remember things from time to time. That's completely normal, and you're not alone in this. I’m a computer assistant, and I’m here to help answer any questions you have and guide you whenever you need. If there’s anything you’re unsure about, feel free to ask, and I’ll be happy to assist you.\"\n",
    "    }\n",
    "\n",
    "    # Add the example queries to the system content for clarity\n",
    "    example_prompt = \"\\nExamples of questions and responses:\\n\" + \"\\n\".join(\n",
    "        [f\"Question: {q}\\nAnswer: {a}\" for q, a in examples.items()]\n",
    "    )\n",
    "    messages[0][\"content\"] += example_prompt\n",
    "\n",
    "    return outputs[0][\"generated_text\"][-1]\n"
   ]
  },
  {
   "cell_type": "markdown",
   "id": "f78edecc",
   "metadata": {
    "papermill": {
     "duration": 0.011413,
     "end_time": "2024-12-22T16:40:28.722646",
     "exception": false,
     "start_time": "2024-12-22T16:40:28.711233",
     "status": "completed"
    },
    "tags": []
   },
   "source": [
    "Lastly, full integration to get the final output with the patient data, using the trained model:"
   ]
  },
  {
   "cell_type": "code",
   "execution_count": 32,
   "id": "c68cd0d8",
   "metadata": {
    "execution": {
     "iopub.execute_input": "2024-12-22T16:40:28.748951Z",
     "iopub.status.busy": "2024-12-22T16:40:28.748105Z",
     "iopub.status.idle": "2024-12-22T16:40:28.752467Z",
     "shell.execute_reply": "2024-12-22T16:40:28.751648Z"
    },
    "papermill": {
     "duration": 0.019982,
     "end_time": "2024-12-22T16:40:28.753957",
     "exception": false,
     "start_time": "2024-12-22T16:40:28.733975",
     "status": "completed"
    },
    "tags": []
   },
   "outputs": [],
   "source": [
    "def chatbot(user_input, patient_id):\n",
    "    # generate a response using the pipeline\n",
    "    return generate_response(user_input, patient_id, pipe)"
   ]
  },
  {
   "cell_type": "code",
   "execution_count": 33,
   "id": "987412da",
   "metadata": {
    "execution": {
     "iopub.execute_input": "2024-12-22T16:40:28.778582Z",
     "iopub.status.busy": "2024-12-22T16:40:28.777774Z",
     "iopub.status.idle": "2024-12-22T16:40:53.756288Z",
     "shell.execute_reply": "2024-12-22T16:40:53.755036Z"
    },
    "papermill": {
     "duration": 24.992542,
     "end_time": "2024-12-22T16:40:53.758015",
     "exception": false,
     "start_time": "2024-12-22T16:40:28.765473",
     "status": "completed"
    },
    "tags": []
   },
   "outputs": [
    {
     "name": "stdout",
     "output_type": "stream",
     "text": [
      "{'role': 'assistant', 'content': \"Sean, you're currently in your nursing home, located at Swelickstraat in Amsterdam Oost. You're in a cozy room, and you're surrounded by familiar surroundings. The sounds of the city outside are gentle, and you can smell the fresh air from the window. You're feeling a bit tired, but you're safe and comfortable here. Would you like to talk about anything in particular or would you like me to remind you of your daily schedule?\"}\n"
     ]
    }
   ],
   "source": [
    "# Set patient ID for the session\n",
    "current_patient_id = 1\n",
    "\n",
    "# Simulate a conversation \n",
    "print(chatbot(\"Where am I?\", current_patient_id))"
   ]
  },
  {
   "cell_type": "markdown",
   "id": "885a59d0",
   "metadata": {
    "papermill": {
     "duration": 0.010946,
     "end_time": "2024-12-22T16:40:53.780807",
     "exception": false,
     "start_time": "2024-12-22T16:40:53.769861",
     "status": "completed"
    },
    "tags": []
   },
   "source": [
    "The generated response shows succesfull integration of the patient database!"
   ]
  },
  {
   "cell_type": "markdown",
   "id": "7439d873",
   "metadata": {
    "papermill": {
     "duration": 0.01086,
     "end_time": "2024-12-22T16:40:53.802644",
     "exception": false,
     "start_time": "2024-12-22T16:40:53.791784",
     "status": "completed"
    },
    "tags": []
   },
   "source": [
    "# 7. Conclussions\n",
    "\n",
    "**To conclude, our model did not seem to improve upon finetuning with the empathethic conversations database.** As mentioned, this highlights the importance of thoroughly understanding a model's baseline capabilities before investing resources in further fine-tuning. Instead of ehnacing general empathy, it might have been more effective to focus on specific resources specialized in dementia care. These do not seem largly and freely available. Therfore, creating a dedicated database specifically designed to support patients with dementia, and using this to finetune, could be a valuable avenue for future research.\n",
    "\n",
    "**We did see that the meta llama 3 model already exhibits great empathethic qualities, and combining this with a patient database allowed the model to give coherent, complete and empathethic responses.** This highlights the great possibilities that are lying ahead with large language models, and thought us a great deal regarding whats avaiable right now, and what opportunties and challenges lay ahead in this field."
   ]
  },
  {
   "cell_type": "markdown",
   "id": "25585cdd",
   "metadata": {
    "papermill": {
     "duration": 0.01077,
     "end_time": "2024-12-22T16:40:53.824328",
     "exception": false,
     "start_time": "2024-12-22T16:40:53.813558",
     "status": "completed"
    },
    "tags": []
   },
   "source": [
    "# 8. References\n",
    "\n",
    "Adwan, A. A. (2024, May 30). Fine-Tuning Llama 3 and using it locally. Datacamp. https://www.datacamp.com/tutorial/llama3-fine-tuning-locally\n",
    "\n",
    "Adwan, A. A. (2023, Oct 19). Fine-Tuning LLaMA 2. Datacamp. https://www.datacamp.com/tutorial/fine-tuning-llama-2\n",
    "\n",
    "McMahon, C., Crowe, L., & Gordon, A. (2023). Promoting psychological well-being in dementia care: The role of caregiver interactions. BMC Nursing. Retrieved from https://bmcnurs.biomedcentral.com/articles/10.1186/s12912-023-01387-6\n",
    "\n",
    "NPR. (2017). For dementia patients, engagement can improve mood and quality of life. NPR Health Shots. Retrieved from https://www.npr.org/sections/health-shots/2017/07/19/537907127/for-dementia-patients-engagement-can-improve-mood-and-quality-of-life\n",
    "\n",
    "Meta, Llama. Homepage. Retrieved December, 2024, from https://www.llama.com/\n",
    "\n",
    "OpenAI. (2024). GPT-4o [Large language model]. https://chat.openai.com\n",
    "\n",
    "\n",
    "\n",
    "\n",
    "*Youtube videos and other articles that we used to learn from:*\n",
    "\n",
    "- [RAG vs Fine-Tuning (youtube)](https://www.youtube.com/watch?v=00Q0G84kq3M)\n",
    "\n",
    "- [Augmenting a Large Language Model with Retrieval-Augmented Generation and Fine-tuning (microsoft article)](https://learn.microsoft.com/en-us/azure/developer/ai/augment-llm-rag-fine-tuning)\n",
    "\n",
    "- [Training a LLama Model from Scratch (huggingface) ](https://huggingface.co/blog/nroggendorff/train-with-llama-architecture)\n",
    "\n"
   ]
  },
  {
   "cell_type": "markdown",
   "id": "024e3700",
   "metadata": {
    "papermill": {
     "duration": 0.010723,
     "end_time": "2024-12-22T16:40:53.845945",
     "exception": false,
     "start_time": "2024-12-22T16:40:53.835222",
     "status": "completed"
    },
    "tags": []
   },
   "source": [
    "## Division of Labour\n",
    "We often worked on the project with the three of us together\n",
    "\n",
    "- Researching - All\n",
    "- Setting up the notebook - Sean\n",
    "- PreProcessing the Empathethic Dataset - Isa and Marek\n",
    "- Implementing code to fine tune the model - All\n",
    "- Training and Saving the fine tuned model on the empaththic database - Isa\n",
    "- Building the Classifier - All\n",
    "- Building the patient database - All\n",
    "- Integrating the database into the model response - Sean\n",
    "- Introduction - Marek\n",
    "- Generating 1000 questions and responses - Marek\n",
    "- Writing and Commenting - Sean and Isa\n"
   ]
  }
 ],
 "metadata": {
  "kaggle": {
   "accelerator": "gpu",
   "dataSources": [
    {
     "datasetId": 1962861,
     "sourceId": 3238154,
     "sourceType": "datasetVersion"
    },
    {
     "datasetId": 6337270,
     "sourceId": 10246606,
     "sourceType": "datasetVersion"
    },
    {
     "modelId": 121027,
     "modelInstanceId": 100933,
     "sourceId": 120002,
     "sourceType": "modelInstanceVersion"
    }
   ],
   "dockerImageVersionId": 30804,
   "isGpuEnabled": true,
   "isInternetEnabled": true,
   "language": "python",
   "sourceType": "notebook"
  },
  "kernelspec": {
   "display_name": "Python 3",
   "language": "python",
   "name": "python3"
  },
  "language_info": {
   "codemirror_mode": {
    "name": "ipython",
    "version": 3
   },
   "file_extension": ".py",
   "mimetype": "text/x-python",
   "name": "python",
   "nbconvert_exporter": "python",
   "pygments_lexer": "ipython3",
   "version": "3.10.14"
  },
  "papermill": {
   "default_parameters": {},
   "duration": 205.742934,
   "end_time": "2024-12-22T16:40:57.026684",
   "environment_variables": {},
   "exception": null,
   "input_path": "__notebook__.ipynb",
   "output_path": "__notebook__.ipynb",
   "parameters": {},
   "start_time": "2024-12-22T16:37:31.283750",
   "version": "2.6.0"
  },
  "widgets": {
   "application/vnd.jupyter.widget-state+json": {
    "state": {
     "0413967b16234550b200cea7efd99b0e": {
      "model_module": "@jupyter-widgets/base",
      "model_module_version": "2.0.0",
      "model_name": "LayoutModel",
      "state": {
       "_model_module": "@jupyter-widgets/base",
       "_model_module_version": "2.0.0",
       "_model_name": "LayoutModel",
       "_view_count": null,
       "_view_module": "@jupyter-widgets/base",
       "_view_module_version": "2.0.0",
       "_view_name": "LayoutView",
       "align_content": null,
       "align_items": null,
       "align_self": null,
       "border_bottom": null,
       "border_left": null,
       "border_right": null,
       "border_top": null,
       "bottom": null,
       "display": null,
       "flex": null,
       "flex_flow": null,
       "grid_area": null,
       "grid_auto_columns": null,
       "grid_auto_flow": null,
       "grid_auto_rows": null,
       "grid_column": null,
       "grid_gap": null,
       "grid_row": null,
       "grid_template_areas": null,
       "grid_template_columns": null,
       "grid_template_rows": null,
       "height": null,
       "justify_content": null,
       "justify_items": null,
       "left": null,
       "margin": null,
       "max_height": null,
       "max_width": null,
       "min_height": null,
       "min_width": null,
       "object_fit": null,
       "object_position": null,
       "order": null,
       "overflow": null,
       "padding": null,
       "right": null,
       "top": null,
       "visibility": null,
       "width": null
      }
     },
     "05d188b3b31d4648bd9f60a43d93e3a3": {
      "model_module": "@jupyter-widgets/controls",
      "model_module_version": "2.0.0",
      "model_name": "HTMLStyleModel",
      "state": {
       "_model_module": "@jupyter-widgets/controls",
       "_model_module_version": "2.0.0",
       "_model_name": "HTMLStyleModel",
       "_view_count": null,
       "_view_module": "@jupyter-widgets/base",
       "_view_module_version": "2.0.0",
       "_view_name": "StyleView",
       "background": null,
       "description_width": "",
       "font_size": null,
       "text_color": null
      }
     },
     "0aad7101d235441980f533ddc1293ae4": {
      "model_module": "@jupyter-widgets/base",
      "model_module_version": "2.0.0",
      "model_name": "LayoutModel",
      "state": {
       "_model_module": "@jupyter-widgets/base",
       "_model_module_version": "2.0.0",
       "_model_name": "LayoutModel",
       "_view_count": null,
       "_view_module": "@jupyter-widgets/base",
       "_view_module_version": "2.0.0",
       "_view_name": "LayoutView",
       "align_content": null,
       "align_items": null,
       "align_self": null,
       "border_bottom": null,
       "border_left": null,
       "border_right": null,
       "border_top": null,
       "bottom": null,
       "display": null,
       "flex": null,
       "flex_flow": null,
       "grid_area": null,
       "grid_auto_columns": null,
       "grid_auto_flow": null,
       "grid_auto_rows": null,
       "grid_column": null,
       "grid_gap": null,
       "grid_row": null,
       "grid_template_areas": null,
       "grid_template_columns": null,
       "grid_template_rows": null,
       "height": null,
       "justify_content": null,
       "justify_items": null,
       "left": null,
       "margin": null,
       "max_height": null,
       "max_width": null,
       "min_height": null,
       "min_width": null,
       "object_fit": null,
       "object_position": null,
       "order": null,
       "overflow": null,
       "padding": null,
       "right": null,
       "top": null,
       "visibility": null,
       "width": null
      }
     },
     "220de7975ecb427aae241838b99a91ab": {
      "model_module": "@jupyter-widgets/controls",
      "model_module_version": "2.0.0",
      "model_name": "HTMLModel",
      "state": {
       "_dom_classes": [],
       "_model_module": "@jupyter-widgets/controls",
       "_model_module_version": "2.0.0",
       "_model_name": "HTMLModel",
       "_view_count": null,
       "_view_module": "@jupyter-widgets/controls",
       "_view_module_version": "2.0.0",
       "_view_name": "HTMLView",
       "description": "",
       "description_allow_html": false,
       "layout": "IPY_MODEL_e579fd112f9348f783c404f8308810e1",
       "placeholder": "​",
       "style": "IPY_MODEL_40467de82afb4bfd9b74df705087d584",
       "tabbable": null,
       "tooltip": null,
       "value": "Computing checksums: 100%"
      }
     },
     "27c140e50ef44d65a308547b779cf64c": {
      "model_module": "@jupyter-widgets/base",
      "model_module_version": "2.0.0",
      "model_name": "LayoutModel",
      "state": {
       "_model_module": "@jupyter-widgets/base",
       "_model_module_version": "2.0.0",
       "_model_name": "LayoutModel",
       "_view_count": null,
       "_view_module": "@jupyter-widgets/base",
       "_view_module_version": "2.0.0",
       "_view_name": "LayoutView",
       "align_content": null,
       "align_items": null,
       "align_self": null,
       "border_bottom": null,
       "border_left": null,
       "border_right": null,
       "border_top": null,
       "bottom": null,
       "display": null,
       "flex": null,
       "flex_flow": null,
       "grid_area": null,
       "grid_auto_columns": null,
       "grid_auto_flow": null,
       "grid_auto_rows": null,
       "grid_column": null,
       "grid_gap": null,
       "grid_row": null,
       "grid_template_areas": null,
       "grid_template_columns": null,
       "grid_template_rows": null,
       "height": null,
       "justify_content": null,
       "justify_items": null,
       "left": null,
       "margin": null,
       "max_height": null,
       "max_width": null,
       "min_height": null,
       "min_width": null,
       "object_fit": null,
       "object_position": null,
       "order": null,
       "overflow": null,
       "padding": null,
       "right": null,
       "top": null,
       "visibility": null,
       "width": null
      }
     },
     "37c05ce2d1c047fd904cdfcd04080b13": {
      "model_module": "@jupyter-widgets/base",
      "model_module_version": "2.0.0",
      "model_name": "LayoutModel",
      "state": {
       "_model_module": "@jupyter-widgets/base",
       "_model_module_version": "2.0.0",
       "_model_name": "LayoutModel",
       "_view_count": null,
       "_view_module": "@jupyter-widgets/base",
       "_view_module_version": "2.0.0",
       "_view_name": "LayoutView",
       "align_content": null,
       "align_items": null,
       "align_self": null,
       "border_bottom": null,
       "border_left": null,
       "border_right": null,
       "border_top": null,
       "bottom": null,
       "display": null,
       "flex": null,
       "flex_flow": null,
       "grid_area": null,
       "grid_auto_columns": null,
       "grid_auto_flow": null,
       "grid_auto_rows": null,
       "grid_column": null,
       "grid_gap": null,
       "grid_row": null,
       "grid_template_areas": null,
       "grid_template_columns": null,
       "grid_template_rows": null,
       "height": null,
       "justify_content": null,
       "justify_items": null,
       "left": null,
       "margin": null,
       "max_height": null,
       "max_width": null,
       "min_height": null,
       "min_width": null,
       "object_fit": null,
       "object_position": null,
       "order": null,
       "overflow": null,
       "padding": null,
       "right": null,
       "top": null,
       "visibility": null,
       "width": null
      }
     },
     "40467de82afb4bfd9b74df705087d584": {
      "model_module": "@jupyter-widgets/controls",
      "model_module_version": "2.0.0",
      "model_name": "HTMLStyleModel",
      "state": {
       "_model_module": "@jupyter-widgets/controls",
       "_model_module_version": "2.0.0",
       "_model_name": "HTMLStyleModel",
       "_view_count": null,
       "_view_module": "@jupyter-widgets/base",
       "_view_module_version": "2.0.0",
       "_view_name": "StyleView",
       "background": null,
       "description_width": "",
       "font_size": null,
       "text_color": null
      }
     },
     "42c5f8e22b58464091324a5e6ccef6bf": {
      "model_module": "@jupyter-widgets/controls",
      "model_module_version": "2.0.0",
      "model_name": "HBoxModel",
      "state": {
       "_dom_classes": [],
       "_model_module": "@jupyter-widgets/controls",
       "_model_module_version": "2.0.0",
       "_model_name": "HBoxModel",
       "_view_count": null,
       "_view_module": "@jupyter-widgets/controls",
       "_view_module_version": "2.0.0",
       "_view_name": "HBoxView",
       "box_style": "",
       "children": [
        "IPY_MODEL_b9eefa61c1e14d1aa0b77fa9f5903ea6",
        "IPY_MODEL_9ddf50277ec04171b5d61d4ada1c86dd",
        "IPY_MODEL_cbbebb3a42f847b6a1da5ce1b5b21610"
       ],
       "layout": "IPY_MODEL_9bc98dbd5730407cbd3940ef448569a6",
       "tabbable": null,
       "tooltip": null
      }
     },
     "443b921135204584ac5a8c797ace0b06": {
      "model_module": "@jupyter-widgets/base",
      "model_module_version": "2.0.0",
      "model_name": "LayoutModel",
      "state": {
       "_model_module": "@jupyter-widgets/base",
       "_model_module_version": "2.0.0",
       "_model_name": "LayoutModel",
       "_view_count": null,
       "_view_module": "@jupyter-widgets/base",
       "_view_module_version": "2.0.0",
       "_view_name": "LayoutView",
       "align_content": null,
       "align_items": null,
       "align_self": null,
       "border_bottom": null,
       "border_left": null,
       "border_right": null,
       "border_top": null,
       "bottom": null,
       "display": null,
       "flex": null,
       "flex_flow": null,
       "grid_area": null,
       "grid_auto_columns": null,
       "grid_auto_flow": null,
       "grid_auto_rows": null,
       "grid_column": null,
       "grid_gap": null,
       "grid_row": null,
       "grid_template_areas": null,
       "grid_template_columns": null,
       "grid_template_rows": null,
       "height": null,
       "justify_content": null,
       "justify_items": null,
       "left": null,
       "margin": null,
       "max_height": null,
       "max_width": null,
       "min_height": null,
       "min_width": null,
       "object_fit": null,
       "object_position": null,
       "order": null,
       "overflow": null,
       "padding": null,
       "right": null,
       "top": null,
       "visibility": null,
       "width": null
      }
     },
     "4a0da849abd248e7b65111f525cda15c": {
      "model_module": "@jupyter-widgets/controls",
      "model_module_version": "2.0.0",
      "model_name": "ProgressStyleModel",
      "state": {
       "_model_module": "@jupyter-widgets/controls",
       "_model_module_version": "2.0.0",
       "_model_name": "ProgressStyleModel",
       "_view_count": null,
       "_view_module": "@jupyter-widgets/base",
       "_view_module_version": "2.0.0",
       "_view_name": "StyleView",
       "bar_color": null,
       "description_width": ""
      }
     },
     "4d861544f4004e70b62842e1abf814ca": {
      "model_module": "@jupyter-widgets/base",
      "model_module_version": "2.0.0",
      "model_name": "LayoutModel",
      "state": {
       "_model_module": "@jupyter-widgets/base",
       "_model_module_version": "2.0.0",
       "_model_name": "LayoutModel",
       "_view_count": null,
       "_view_module": "@jupyter-widgets/base",
       "_view_module_version": "2.0.0",
       "_view_name": "LayoutView",
       "align_content": null,
       "align_items": null,
       "align_self": null,
       "border_bottom": null,
       "border_left": null,
       "border_right": null,
       "border_top": null,
       "bottom": null,
       "display": null,
       "flex": null,
       "flex_flow": null,
       "grid_area": null,
       "grid_auto_columns": null,
       "grid_auto_flow": null,
       "grid_auto_rows": null,
       "grid_column": null,
       "grid_gap": null,
       "grid_row": null,
       "grid_template_areas": null,
       "grid_template_columns": null,
       "grid_template_rows": null,
       "height": null,
       "justify_content": null,
       "justify_items": null,
       "left": null,
       "margin": null,
       "max_height": null,
       "max_width": null,
       "min_height": null,
       "min_width": null,
       "object_fit": null,
       "object_position": null,
       "order": null,
       "overflow": null,
       "padding": null,
       "right": null,
       "top": null,
       "visibility": null,
       "width": null
      }
     },
     "4f0f2381ea74487ba80851e69137594f": {
      "model_module": "@jupyter-widgets/controls",
      "model_module_version": "2.0.0",
      "model_name": "HTMLModel",
      "state": {
       "_dom_classes": [],
       "_model_module": "@jupyter-widgets/controls",
       "_model_module_version": "2.0.0",
       "_model_name": "HTMLModel",
       "_view_count": null,
       "_view_module": "@jupyter-widgets/controls",
       "_view_module_version": "2.0.0",
       "_view_name": "HTMLView",
       "description": "",
       "description_allow_html": false,
       "layout": "IPY_MODEL_e8734bbbd9f14fccaa9eca1e25c9e705",
       "placeholder": "​",
       "style": "IPY_MODEL_73a4f49e66384b45930365eb3a30676e",
       "tabbable": null,
       "tooltip": null,
       "value": " 1/1 [00:00&lt;00:00, 199.37it/s]"
      }
     },
     "502669f2b73a4c7894da5f4d1061a65f": {
      "model_module": "@jupyter-widgets/controls",
      "model_module_version": "2.0.0",
      "model_name": "HBoxModel",
      "state": {
       "_dom_classes": [],
       "_model_module": "@jupyter-widgets/controls",
       "_model_module_version": "2.0.0",
       "_model_name": "HBoxModel",
       "_view_count": null,
       "_view_module": "@jupyter-widgets/controls",
       "_view_module_version": "2.0.0",
       "_view_name": "HBoxView",
       "box_style": "",
       "children": [
        "IPY_MODEL_567c4647527b46c6a4cf7ae7d4ae7ed0",
        "IPY_MODEL_896aaa608343416ea907b87b45d6e5ef",
        "IPY_MODEL_9f9b9319dd2b43ef963b89e9ae2ee5a8"
       ],
       "layout": "IPY_MODEL_27c140e50ef44d65a308547b779cf64c",
       "tabbable": null,
       "tooltip": null
      }
     },
     "567c4647527b46c6a4cf7ae7d4ae7ed0": {
      "model_module": "@jupyter-widgets/controls",
      "model_module_version": "2.0.0",
      "model_name": "HTMLModel",
      "state": {
       "_dom_classes": [],
       "_model_module": "@jupyter-widgets/controls",
       "_model_module_version": "2.0.0",
       "_model_name": "HTMLModel",
       "_view_count": null,
       "_view_module": "@jupyter-widgets/controls",
       "_view_module_version": "2.0.0",
       "_view_name": "HTMLView",
       "description": "",
       "description_allow_html": false,
       "layout": "IPY_MODEL_ce67362970a64051b6e4f9b941829640",
       "placeholder": "​",
       "style": "IPY_MODEL_6ba5f6a8b70d4d26af25782fcc98fbd8",
       "tabbable": null,
       "tooltip": null,
       "value": "Generating train split: "
      }
     },
     "5b1320f8125c47e0b7dfcb927ac0daf1": {
      "model_module": "@jupyter-widgets/base",
      "model_module_version": "2.0.0",
      "model_name": "LayoutModel",
      "state": {
       "_model_module": "@jupyter-widgets/base",
       "_model_module_version": "2.0.0",
       "_model_name": "LayoutModel",
       "_view_count": null,
       "_view_module": "@jupyter-widgets/base",
       "_view_module_version": "2.0.0",
       "_view_name": "LayoutView",
       "align_content": null,
       "align_items": null,
       "align_self": null,
       "border_bottom": null,
       "border_left": null,
       "border_right": null,
       "border_top": null,
       "bottom": null,
       "display": null,
       "flex": null,
       "flex_flow": null,
       "grid_area": null,
       "grid_auto_columns": null,
       "grid_auto_flow": null,
       "grid_auto_rows": null,
       "grid_column": null,
       "grid_gap": null,
       "grid_row": null,
       "grid_template_areas": null,
       "grid_template_columns": null,
       "grid_template_rows": null,
       "height": null,
       "justify_content": null,
       "justify_items": null,
       "left": null,
       "margin": null,
       "max_height": null,
       "max_width": null,
       "min_height": null,
       "min_width": null,
       "object_fit": null,
       "object_position": null,
       "order": null,
       "overflow": null,
       "padding": null,
       "right": null,
       "top": null,
       "visibility": null,
       "width": null
      }
     },
     "63ce6cf26fe741a3a24c7262a64fa433": {
      "model_module": "@jupyter-widgets/controls",
      "model_module_version": "2.0.0",
      "model_name": "FloatProgressModel",
      "state": {
       "_dom_classes": [],
       "_model_module": "@jupyter-widgets/controls",
       "_model_module_version": "2.0.0",
       "_model_name": "FloatProgressModel",
       "_view_count": null,
       "_view_module": "@jupyter-widgets/controls",
       "_view_module_version": "2.0.0",
       "_view_name": "ProgressView",
       "bar_style": "success",
       "description": "",
       "description_allow_html": false,
       "layout": "IPY_MODEL_4d861544f4004e70b62842e1abf814ca",
       "max": 1,
       "min": 0,
       "orientation": "horizontal",
       "style": "IPY_MODEL_d9653a7f81f04fc7b20cd090883de0df",
       "tabbable": null,
       "tooltip": null,
       "value": 1
      }
     },
     "644aa70f796c477ca775d61983f9e48f": {
      "model_module": "@jupyter-widgets/base",
      "model_module_version": "2.0.0",
      "model_name": "LayoutModel",
      "state": {
       "_model_module": "@jupyter-widgets/base",
       "_model_module_version": "2.0.0",
       "_model_name": "LayoutModel",
       "_view_count": null,
       "_view_module": "@jupyter-widgets/base",
       "_view_module_version": "2.0.0",
       "_view_name": "LayoutView",
       "align_content": null,
       "align_items": null,
       "align_self": null,
       "border_bottom": null,
       "border_left": null,
       "border_right": null,
       "border_top": null,
       "bottom": null,
       "display": null,
       "flex": null,
       "flex_flow": null,
       "grid_area": null,
       "grid_auto_columns": null,
       "grid_auto_flow": null,
       "grid_auto_rows": null,
       "grid_column": null,
       "grid_gap": null,
       "grid_row": null,
       "grid_template_areas": null,
       "grid_template_columns": null,
       "grid_template_rows": null,
       "height": null,
       "justify_content": null,
       "justify_items": null,
       "left": null,
       "margin": null,
       "max_height": null,
       "max_width": null,
       "min_height": null,
       "min_width": null,
       "object_fit": null,
       "object_position": null,
       "order": null,
       "overflow": null,
       "padding": null,
       "right": null,
       "top": null,
       "visibility": null,
       "width": null
      }
     },
     "6ab398a183034ab88681d444e2c4ac20": {
      "model_module": "@jupyter-widgets/base",
      "model_module_version": "2.0.0",
      "model_name": "LayoutModel",
      "state": {
       "_model_module": "@jupyter-widgets/base",
       "_model_module_version": "2.0.0",
       "_model_name": "LayoutModel",
       "_view_count": null,
       "_view_module": "@jupyter-widgets/base",
       "_view_module_version": "2.0.0",
       "_view_name": "LayoutView",
       "align_content": null,
       "align_items": null,
       "align_self": null,
       "border_bottom": null,
       "border_left": null,
       "border_right": null,
       "border_top": null,
       "bottom": null,
       "display": null,
       "flex": null,
       "flex_flow": null,
       "grid_area": null,
       "grid_auto_columns": null,
       "grid_auto_flow": null,
       "grid_auto_rows": null,
       "grid_column": null,
       "grid_gap": null,
       "grid_row": null,
       "grid_template_areas": null,
       "grid_template_columns": null,
       "grid_template_rows": null,
       "height": null,
       "justify_content": null,
       "justify_items": null,
       "left": null,
       "margin": null,
       "max_height": null,
       "max_width": null,
       "min_height": null,
       "min_width": null,
       "object_fit": null,
       "object_position": null,
       "order": null,
       "overflow": null,
       "padding": null,
       "right": null,
       "top": null,
       "visibility": null,
       "width": null
      }
     },
     "6ba5f6a8b70d4d26af25782fcc98fbd8": {
      "model_module": "@jupyter-widgets/controls",
      "model_module_version": "2.0.0",
      "model_name": "HTMLStyleModel",
      "state": {
       "_model_module": "@jupyter-widgets/controls",
       "_model_module_version": "2.0.0",
       "_model_name": "HTMLStyleModel",
       "_view_count": null,
       "_view_module": "@jupyter-widgets/base",
       "_view_module_version": "2.0.0",
       "_view_name": "StyleView",
       "background": null,
       "description_width": "",
       "font_size": null,
       "text_color": null
      }
     },
     "73a4f49e66384b45930365eb3a30676e": {
      "model_module": "@jupyter-widgets/controls",
      "model_module_version": "2.0.0",
      "model_name": "HTMLStyleModel",
      "state": {
       "_model_module": "@jupyter-widgets/controls",
       "_model_module_version": "2.0.0",
       "_model_name": "HTMLStyleModel",
       "_view_count": null,
       "_view_module": "@jupyter-widgets/base",
       "_view_module_version": "2.0.0",
       "_view_name": "StyleView",
       "background": null,
       "description_width": "",
       "font_size": null,
       "text_color": null
      }
     },
     "7b5f1964b90a4c0c9e838424d7a678d2": {
      "model_module": "@jupyter-widgets/controls",
      "model_module_version": "2.0.0",
      "model_name": "FloatProgressModel",
      "state": {
       "_dom_classes": [],
       "_model_module": "@jupyter-widgets/controls",
       "_model_module_version": "2.0.0",
       "_model_name": "FloatProgressModel",
       "_view_count": null,
       "_view_module": "@jupyter-widgets/controls",
       "_view_module_version": "2.0.0",
       "_view_name": "ProgressView",
       "bar_style": "success",
       "description": "",
       "description_allow_html": false,
       "layout": "IPY_MODEL_82ad05204f55464fb2f7a9df15f2fb70",
       "max": 22500,
       "min": 0,
       "orientation": "horizontal",
       "style": "IPY_MODEL_4a0da849abd248e7b65111f525cda15c",
       "tabbable": null,
       "tooltip": null,
       "value": 22500
      }
     },
     "7c6958ce15ab4b93bc4a7612bd6f443c": {
      "model_module": "@jupyter-widgets/controls",
      "model_module_version": "2.0.0",
      "model_name": "HTMLStyleModel",
      "state": {
       "_model_module": "@jupyter-widgets/controls",
       "_model_module_version": "2.0.0",
       "_model_name": "HTMLStyleModel",
       "_view_count": null,
       "_view_module": "@jupyter-widgets/base",
       "_view_module_version": "2.0.0",
       "_view_name": "StyleView",
       "background": null,
       "description_width": "",
       "font_size": null,
       "text_color": null
      }
     },
     "80fe372493664c37a0c416321f7a8ecb": {
      "model_module": "@jupyter-widgets/controls",
      "model_module_version": "2.0.0",
      "model_name": "HBoxModel",
      "state": {
       "_dom_classes": [],
       "_model_module": "@jupyter-widgets/controls",
       "_model_module_version": "2.0.0",
       "_model_name": "HBoxModel",
       "_view_count": null,
       "_view_module": "@jupyter-widgets/controls",
       "_view_module_version": "2.0.0",
       "_view_name": "HBoxView",
       "box_style": "",
       "children": [
        "IPY_MODEL_8b484b9a55b24933aefe303d20f6a73b",
        "IPY_MODEL_a343c881a6724f228beee74bee6f38ed",
        "IPY_MODEL_f49b3ec4c086429784e081610a1f42ad"
       ],
       "layout": "IPY_MODEL_37c05ce2d1c047fd904cdfcd04080b13",
       "tabbable": null,
       "tooltip": null
      }
     },
     "82ad05204f55464fb2f7a9df15f2fb70": {
      "model_module": "@jupyter-widgets/base",
      "model_module_version": "2.0.0",
      "model_name": "LayoutModel",
      "state": {
       "_model_module": "@jupyter-widgets/base",
       "_model_module_version": "2.0.0",
       "_model_name": "LayoutModel",
       "_view_count": null,
       "_view_module": "@jupyter-widgets/base",
       "_view_module_version": "2.0.0",
       "_view_name": "LayoutView",
       "align_content": null,
       "align_items": null,
       "align_self": null,
       "border_bottom": null,
       "border_left": null,
       "border_right": null,
       "border_top": null,
       "bottom": null,
       "display": null,
       "flex": null,
       "flex_flow": null,
       "grid_area": null,
       "grid_auto_columns": null,
       "grid_auto_flow": null,
       "grid_auto_rows": null,
       "grid_column": null,
       "grid_gap": null,
       "grid_row": null,
       "grid_template_areas": null,
       "grid_template_columns": null,
       "grid_template_rows": null,
       "height": null,
       "justify_content": null,
       "justify_items": null,
       "left": null,
       "margin": null,
       "max_height": null,
       "max_width": null,
       "min_height": null,
       "min_width": null,
       "object_fit": null,
       "object_position": null,
       "order": null,
       "overflow": null,
       "padding": null,
       "right": null,
       "top": null,
       "visibility": null,
       "width": null
      }
     },
     "87d2323a3b5c44149d1d199910f84d73": {
      "model_module": "@jupyter-widgets/controls",
      "model_module_version": "2.0.0",
      "model_name": "HTMLStyleModel",
      "state": {
       "_model_module": "@jupyter-widgets/controls",
       "_model_module_version": "2.0.0",
       "_model_name": "HTMLStyleModel",
       "_view_count": null,
       "_view_module": "@jupyter-widgets/base",
       "_view_module_version": "2.0.0",
       "_view_name": "StyleView",
       "background": null,
       "description_width": "",
       "font_size": null,
       "text_color": null
      }
     },
     "896aaa608343416ea907b87b45d6e5ef": {
      "model_module": "@jupyter-widgets/controls",
      "model_module_version": "2.0.0",
      "model_name": "FloatProgressModel",
      "state": {
       "_dom_classes": [],
       "_model_module": "@jupyter-widgets/controls",
       "_model_module_version": "2.0.0",
       "_model_name": "FloatProgressModel",
       "_view_count": null,
       "_view_module": "@jupyter-widgets/controls",
       "_view_module_version": "2.0.0",
       "_view_name": "ProgressView",
       "bar_style": "success",
       "description": "",
       "description_allow_html": false,
       "layout": "IPY_MODEL_f9b98a0fed2344a58269e8727a6a933f",
       "max": 1,
       "min": 0,
       "orientation": "horizontal",
       "style": "IPY_MODEL_9fdb9f66c6b740cb81f5851fd3e4913d",
       "tabbable": null,
       "tooltip": null,
       "value": 1
      }
     },
     "8b484b9a55b24933aefe303d20f6a73b": {
      "model_module": "@jupyter-widgets/controls",
      "model_module_version": "2.0.0",
      "model_name": "HTMLModel",
      "state": {
       "_dom_classes": [],
       "_model_module": "@jupyter-widgets/controls",
       "_model_module_version": "2.0.0",
       "_model_name": "HTMLModel",
       "_view_count": null,
       "_view_module": "@jupyter-widgets/controls",
       "_view_module_version": "2.0.0",
       "_view_name": "HTMLView",
       "description": "",
       "description_allow_html": false,
       "layout": "IPY_MODEL_6ab398a183034ab88681d444e2c4ac20",
       "placeholder": "​",
       "style": "IPY_MODEL_f0f9c32386364de685c473699607f47b",
       "tabbable": null,
       "tooltip": null,
       "value": "Map: 100%"
      }
     },
     "8e5f8d0eb1804e728a06b2e6897c298e": {
      "model_module": "@jupyter-widgets/controls",
      "model_module_version": "2.0.0",
      "model_name": "HTMLStyleModel",
      "state": {
       "_model_module": "@jupyter-widgets/controls",
       "_model_module_version": "2.0.0",
       "_model_name": "HTMLStyleModel",
       "_view_count": null,
       "_view_module": "@jupyter-widgets/base",
       "_view_module_version": "2.0.0",
       "_view_name": "StyleView",
       "background": null,
       "description_width": "",
       "font_size": null,
       "text_color": null
      }
     },
     "9aa86e263f9b4d9fb897889c7755a1ac": {
      "model_module": "@jupyter-widgets/controls",
      "model_module_version": "2.0.0",
      "model_name": "HTMLModel",
      "state": {
       "_dom_classes": [],
       "_model_module": "@jupyter-widgets/controls",
       "_model_module_version": "2.0.0",
       "_model_name": "HTMLModel",
       "_view_count": null,
       "_view_module": "@jupyter-widgets/controls",
       "_view_module_version": "2.0.0",
       "_view_name": "HTMLView",
       "description": "",
       "description_allow_html": false,
       "layout": "IPY_MODEL_644aa70f796c477ca775d61983f9e48f",
       "placeholder": "​",
       "style": "IPY_MODEL_87d2323a3b5c44149d1d199910f84d73",
       "tabbable": null,
       "tooltip": null,
       "value": " 22500/22500 [00:03&lt;00:00, 6983.09 examples/s]"
      }
     },
     "9bc98dbd5730407cbd3940ef448569a6": {
      "model_module": "@jupyter-widgets/base",
      "model_module_version": "2.0.0",
      "model_name": "LayoutModel",
      "state": {
       "_model_module": "@jupyter-widgets/base",
       "_model_module_version": "2.0.0",
       "_model_name": "LayoutModel",
       "_view_count": null,
       "_view_module": "@jupyter-widgets/base",
       "_view_module_version": "2.0.0",
       "_view_name": "LayoutView",
       "align_content": null,
       "align_items": null,
       "align_self": null,
       "border_bottom": null,
       "border_left": null,
       "border_right": null,
       "border_top": null,
       "bottom": null,
       "display": null,
       "flex": null,
       "flex_flow": null,
       "grid_area": null,
       "grid_auto_columns": null,
       "grid_auto_flow": null,
       "grid_auto_rows": null,
       "grid_column": null,
       "grid_gap": null,
       "grid_row": null,
       "grid_template_areas": null,
       "grid_template_columns": null,
       "grid_template_rows": null,
       "height": null,
       "justify_content": null,
       "justify_items": null,
       "left": null,
       "margin": null,
       "max_height": null,
       "max_width": null,
       "min_height": null,
       "min_width": null,
       "object_fit": null,
       "object_position": null,
       "order": null,
       "overflow": null,
       "padding": null,
       "right": null,
       "top": null,
       "visibility": null,
       "width": null
      }
     },
     "9d819dff5fe44295b8e444ac6e1a902a": {
      "model_module": "@jupyter-widgets/controls",
      "model_module_version": "2.0.0",
      "model_name": "ProgressStyleModel",
      "state": {
       "_model_module": "@jupyter-widgets/controls",
       "_model_module_version": "2.0.0",
       "_model_name": "ProgressStyleModel",
       "_view_count": null,
       "_view_module": "@jupyter-widgets/base",
       "_view_module_version": "2.0.0",
       "_view_name": "StyleView",
       "bar_color": null,
       "description_width": ""
      }
     },
     "9ddf50277ec04171b5d61d4ada1c86dd": {
      "model_module": "@jupyter-widgets/controls",
      "model_module_version": "2.0.0",
      "model_name": "FloatProgressModel",
      "state": {
       "_dom_classes": [],
       "_model_module": "@jupyter-widgets/controls",
       "_model_module_version": "2.0.0",
       "_model_name": "FloatProgressModel",
       "_view_count": null,
       "_view_module": "@jupyter-widgets/controls",
       "_view_module_version": "2.0.0",
       "_view_name": "ProgressView",
       "bar_style": "success",
       "description": "",
       "description_allow_html": false,
       "layout": "IPY_MODEL_ca8c2d7f4af9466b8ff4587246f7e8dd",
       "max": 25000,
       "min": 0,
       "orientation": "horizontal",
       "style": "IPY_MODEL_9d819dff5fe44295b8e444ac6e1a902a",
       "tabbable": null,
       "tooltip": null,
       "value": 25000
      }
     },
     "9f9b9319dd2b43ef963b89e9ae2ee5a8": {
      "model_module": "@jupyter-widgets/controls",
      "model_module_version": "2.0.0",
      "model_name": "HTMLModel",
      "state": {
       "_dom_classes": [],
       "_model_module": "@jupyter-widgets/controls",
       "_model_module_version": "2.0.0",
       "_model_name": "HTMLModel",
       "_view_count": null,
       "_view_module": "@jupyter-widgets/controls",
       "_view_module_version": "2.0.0",
       "_view_name": "HTMLView",
       "description": "",
       "description_allow_html": false,
       "layout": "IPY_MODEL_5b1320f8125c47e0b7dfcb927ac0daf1",
       "placeholder": "​",
       "style": "IPY_MODEL_ab0fc7ef3ae14ac0b1f91d27bdd9ad66",
       "tabbable": null,
       "tooltip": null,
       "value": " 64636/0 [00:00&lt;00:00, 164684.87 examples/s]"
      }
     },
     "9fdb9f66c6b740cb81f5851fd3e4913d": {
      "model_module": "@jupyter-widgets/controls",
      "model_module_version": "2.0.0",
      "model_name": "ProgressStyleModel",
      "state": {
       "_model_module": "@jupyter-widgets/controls",
       "_model_module_version": "2.0.0",
       "_model_name": "ProgressStyleModel",
       "_view_count": null,
       "_view_module": "@jupyter-widgets/base",
       "_view_module_version": "2.0.0",
       "_view_name": "StyleView",
       "bar_color": null,
       "description_width": ""
      }
     },
     "a343c881a6724f228beee74bee6f38ed": {
      "model_module": "@jupyter-widgets/controls",
      "model_module_version": "2.0.0",
      "model_name": "FloatProgressModel",
      "state": {
       "_dom_classes": [],
       "_model_module": "@jupyter-widgets/controls",
       "_model_module_version": "2.0.0",
       "_model_name": "FloatProgressModel",
       "_view_count": null,
       "_view_module": "@jupyter-widgets/controls",
       "_view_module_version": "2.0.0",
       "_view_name": "ProgressView",
       "bar_style": "success",
       "description": "",
       "description_allow_html": false,
       "layout": "IPY_MODEL_aff3e924f1bb4d24bfdca3f1989cba02",
       "max": 2500,
       "min": 0,
       "orientation": "horizontal",
       "style": "IPY_MODEL_b94f36f081d2459dbd2876d1f9a0f3c0",
       "tabbable": null,
       "tooltip": null,
       "value": 2500
      }
     },
     "ab0fc7ef3ae14ac0b1f91d27bdd9ad66": {
      "model_module": "@jupyter-widgets/controls",
      "model_module_version": "2.0.0",
      "model_name": "HTMLStyleModel",
      "state": {
       "_model_module": "@jupyter-widgets/controls",
       "_model_module_version": "2.0.0",
       "_model_name": "HTMLStyleModel",
       "_view_count": null,
       "_view_module": "@jupyter-widgets/base",
       "_view_module_version": "2.0.0",
       "_view_name": "StyleView",
       "background": null,
       "description_width": "",
       "font_size": null,
       "text_color": null
      }
     },
     "aff3e924f1bb4d24bfdca3f1989cba02": {
      "model_module": "@jupyter-widgets/base",
      "model_module_version": "2.0.0",
      "model_name": "LayoutModel",
      "state": {
       "_model_module": "@jupyter-widgets/base",
       "_model_module_version": "2.0.0",
       "_model_name": "LayoutModel",
       "_view_count": null,
       "_view_module": "@jupyter-widgets/base",
       "_view_module_version": "2.0.0",
       "_view_name": "LayoutView",
       "align_content": null,
       "align_items": null,
       "align_self": null,
       "border_bottom": null,
       "border_left": null,
       "border_right": null,
       "border_top": null,
       "bottom": null,
       "display": null,
       "flex": null,
       "flex_flow": null,
       "grid_area": null,
       "grid_auto_columns": null,
       "grid_auto_flow": null,
       "grid_auto_rows": null,
       "grid_column": null,
       "grid_gap": null,
       "grid_row": null,
       "grid_template_areas": null,
       "grid_template_columns": null,
       "grid_template_rows": null,
       "height": null,
       "justify_content": null,
       "justify_items": null,
       "left": null,
       "margin": null,
       "max_height": null,
       "max_width": null,
       "min_height": null,
       "min_width": null,
       "object_fit": null,
       "object_position": null,
       "order": null,
       "overflow": null,
       "padding": null,
       "right": null,
       "top": null,
       "visibility": null,
       "width": null
      }
     },
     "b94f36f081d2459dbd2876d1f9a0f3c0": {
      "model_module": "@jupyter-widgets/controls",
      "model_module_version": "2.0.0",
      "model_name": "ProgressStyleModel",
      "state": {
       "_model_module": "@jupyter-widgets/controls",
       "_model_module_version": "2.0.0",
       "_model_name": "ProgressStyleModel",
       "_view_count": null,
       "_view_module": "@jupyter-widgets/base",
       "_view_module_version": "2.0.0",
       "_view_name": "StyleView",
       "bar_color": null,
       "description_width": ""
      }
     },
     "b9eefa61c1e14d1aa0b77fa9f5903ea6": {
      "model_module": "@jupyter-widgets/controls",
      "model_module_version": "2.0.0",
      "model_name": "HTMLModel",
      "state": {
       "_dom_classes": [],
       "_model_module": "@jupyter-widgets/controls",
       "_model_module_version": "2.0.0",
       "_model_name": "HTMLModel",
       "_view_count": null,
       "_view_module": "@jupyter-widgets/controls",
       "_view_module_version": "2.0.0",
       "_view_name": "HTMLView",
       "description": "",
       "description_allow_html": false,
       "layout": "IPY_MODEL_cea04ece5ffe44d0bd1c30e457ee91be",
       "placeholder": "​",
       "style": "IPY_MODEL_e6808b21de174242a37112efdfc3b6ea",
       "tabbable": null,
       "tooltip": null,
       "value": "Map (num_proc=4): 100%"
      }
     },
     "ca8c2d7f4af9466b8ff4587246f7e8dd": {
      "model_module": "@jupyter-widgets/base",
      "model_module_version": "2.0.0",
      "model_name": "LayoutModel",
      "state": {
       "_model_module": "@jupyter-widgets/base",
       "_model_module_version": "2.0.0",
       "_model_name": "LayoutModel",
       "_view_count": null,
       "_view_module": "@jupyter-widgets/base",
       "_view_module_version": "2.0.0",
       "_view_name": "LayoutView",
       "align_content": null,
       "align_items": null,
       "align_self": null,
       "border_bottom": null,
       "border_left": null,
       "border_right": null,
       "border_top": null,
       "bottom": null,
       "display": null,
       "flex": null,
       "flex_flow": null,
       "grid_area": null,
       "grid_auto_columns": null,
       "grid_auto_flow": null,
       "grid_auto_rows": null,
       "grid_column": null,
       "grid_gap": null,
       "grid_row": null,
       "grid_template_areas": null,
       "grid_template_columns": null,
       "grid_template_rows": null,
       "height": null,
       "justify_content": null,
       "justify_items": null,
       "left": null,
       "margin": null,
       "max_height": null,
       "max_width": null,
       "min_height": null,
       "min_width": null,
       "object_fit": null,
       "object_position": null,
       "order": null,
       "overflow": null,
       "padding": null,
       "right": null,
       "top": null,
       "visibility": null,
       "width": null
      }
     },
     "cbbebb3a42f847b6a1da5ce1b5b21610": {
      "model_module": "@jupyter-widgets/controls",
      "model_module_version": "2.0.0",
      "model_name": "HTMLModel",
      "state": {
       "_dom_classes": [],
       "_model_module": "@jupyter-widgets/controls",
       "_model_module_version": "2.0.0",
       "_model_name": "HTMLModel",
       "_view_count": null,
       "_view_module": "@jupyter-widgets/controls",
       "_view_module_version": "2.0.0",
       "_view_name": "HTMLView",
       "description": "",
       "description_allow_html": false,
       "layout": "IPY_MODEL_0aad7101d235441980f533ddc1293ae4",
       "placeholder": "​",
       "style": "IPY_MODEL_8e5f8d0eb1804e728a06b2e6897c298e",
       "tabbable": null,
       "tooltip": null,
       "value": " 25000/25000 [00:01&lt;00:00, 14411.57 examples/s]"
      }
     },
     "ce67362970a64051b6e4f9b941829640": {
      "model_module": "@jupyter-widgets/base",
      "model_module_version": "2.0.0",
      "model_name": "LayoutModel",
      "state": {
       "_model_module": "@jupyter-widgets/base",
       "_model_module_version": "2.0.0",
       "_model_name": "LayoutModel",
       "_view_count": null,
       "_view_module": "@jupyter-widgets/base",
       "_view_module_version": "2.0.0",
       "_view_name": "LayoutView",
       "align_content": null,
       "align_items": null,
       "align_self": null,
       "border_bottom": null,
       "border_left": null,
       "border_right": null,
       "border_top": null,
       "bottom": null,
       "display": null,
       "flex": null,
       "flex_flow": null,
       "grid_area": null,
       "grid_auto_columns": null,
       "grid_auto_flow": null,
       "grid_auto_rows": null,
       "grid_column": null,
       "grid_gap": null,
       "grid_row": null,
       "grid_template_areas": null,
       "grid_template_columns": null,
       "grid_template_rows": null,
       "height": null,
       "justify_content": null,
       "justify_items": null,
       "left": null,
       "margin": null,
       "max_height": null,
       "max_width": null,
       "min_height": null,
       "min_width": null,
       "object_fit": null,
       "object_position": null,
       "order": null,
       "overflow": null,
       "padding": null,
       "right": null,
       "top": null,
       "visibility": null,
       "width": null
      }
     },
     "cea04ece5ffe44d0bd1c30e457ee91be": {
      "model_module": "@jupyter-widgets/base",
      "model_module_version": "2.0.0",
      "model_name": "LayoutModel",
      "state": {
       "_model_module": "@jupyter-widgets/base",
       "_model_module_version": "2.0.0",
       "_model_name": "LayoutModel",
       "_view_count": null,
       "_view_module": "@jupyter-widgets/base",
       "_view_module_version": "2.0.0",
       "_view_name": "LayoutView",
       "align_content": null,
       "align_items": null,
       "align_self": null,
       "border_bottom": null,
       "border_left": null,
       "border_right": null,
       "border_top": null,
       "bottom": null,
       "display": null,
       "flex": null,
       "flex_flow": null,
       "grid_area": null,
       "grid_auto_columns": null,
       "grid_auto_flow": null,
       "grid_auto_rows": null,
       "grid_column": null,
       "grid_gap": null,
       "grid_row": null,
       "grid_template_areas": null,
       "grid_template_columns": null,
       "grid_template_rows": null,
       "height": null,
       "justify_content": null,
       "justify_items": null,
       "left": null,
       "margin": null,
       "max_height": null,
       "max_width": null,
       "min_height": null,
       "min_width": null,
       "object_fit": null,
       "object_position": null,
       "order": null,
       "overflow": null,
       "padding": null,
       "right": null,
       "top": null,
       "visibility": null,
       "width": null
      }
     },
     "d94344dcd8274f3db4e5dc24e06dc2e4": {
      "model_module": "@jupyter-widgets/controls",
      "model_module_version": "2.0.0",
      "model_name": "HBoxModel",
      "state": {
       "_dom_classes": [],
       "_model_module": "@jupyter-widgets/controls",
       "_model_module_version": "2.0.0",
       "_model_name": "HBoxModel",
       "_view_count": null,
       "_view_module": "@jupyter-widgets/controls",
       "_view_module_version": "2.0.0",
       "_view_name": "HBoxView",
       "box_style": "",
       "children": [
        "IPY_MODEL_dcfe7102979d418da8ad48a332ae3d35",
        "IPY_MODEL_7b5f1964b90a4c0c9e838424d7a678d2",
        "IPY_MODEL_9aa86e263f9b4d9fb897889c7755a1ac"
       ],
       "layout": "IPY_MODEL_e4a8aa0baa514be1ad1570933c121b89",
       "tabbable": null,
       "tooltip": null
      }
     },
     "d9653a7f81f04fc7b20cd090883de0df": {
      "model_module": "@jupyter-widgets/controls",
      "model_module_version": "2.0.0",
      "model_name": "ProgressStyleModel",
      "state": {
       "_model_module": "@jupyter-widgets/controls",
       "_model_module_version": "2.0.0",
       "_model_name": "ProgressStyleModel",
       "_view_count": null,
       "_view_module": "@jupyter-widgets/base",
       "_view_module_version": "2.0.0",
       "_view_name": "StyleView",
       "bar_color": null,
       "description_width": ""
      }
     },
     "dcfe7102979d418da8ad48a332ae3d35": {
      "model_module": "@jupyter-widgets/controls",
      "model_module_version": "2.0.0",
      "model_name": "HTMLModel",
      "state": {
       "_dom_classes": [],
       "_model_module": "@jupyter-widgets/controls",
       "_model_module_version": "2.0.0",
       "_model_name": "HTMLModel",
       "_view_count": null,
       "_view_module": "@jupyter-widgets/controls",
       "_view_module_version": "2.0.0",
       "_view_name": "HTMLView",
       "description": "",
       "description_allow_html": false,
       "layout": "IPY_MODEL_0413967b16234550b200cea7efd99b0e",
       "placeholder": "​",
       "style": "IPY_MODEL_05d188b3b31d4648bd9f60a43d93e3a3",
       "tabbable": null,
       "tooltip": null,
       "value": "Map: 100%"
      }
     },
     "e4a8aa0baa514be1ad1570933c121b89": {
      "model_module": "@jupyter-widgets/base",
      "model_module_version": "2.0.0",
      "model_name": "LayoutModel",
      "state": {
       "_model_module": "@jupyter-widgets/base",
       "_model_module_version": "2.0.0",
       "_model_name": "LayoutModel",
       "_view_count": null,
       "_view_module": "@jupyter-widgets/base",
       "_view_module_version": "2.0.0",
       "_view_name": "LayoutView",
       "align_content": null,
       "align_items": null,
       "align_self": null,
       "border_bottom": null,
       "border_left": null,
       "border_right": null,
       "border_top": null,
       "bottom": null,
       "display": null,
       "flex": null,
       "flex_flow": null,
       "grid_area": null,
       "grid_auto_columns": null,
       "grid_auto_flow": null,
       "grid_auto_rows": null,
       "grid_column": null,
       "grid_gap": null,
       "grid_row": null,
       "grid_template_areas": null,
       "grid_template_columns": null,
       "grid_template_rows": null,
       "height": null,
       "justify_content": null,
       "justify_items": null,
       "left": null,
       "margin": null,
       "max_height": null,
       "max_width": null,
       "min_height": null,
       "min_width": null,
       "object_fit": null,
       "object_position": null,
       "order": null,
       "overflow": null,
       "padding": null,
       "right": null,
       "top": null,
       "visibility": null,
       "width": null
      }
     },
     "e579fd112f9348f783c404f8308810e1": {
      "model_module": "@jupyter-widgets/base",
      "model_module_version": "2.0.0",
      "model_name": "LayoutModel",
      "state": {
       "_model_module": "@jupyter-widgets/base",
       "_model_module_version": "2.0.0",
       "_model_name": "LayoutModel",
       "_view_count": null,
       "_view_module": "@jupyter-widgets/base",
       "_view_module_version": "2.0.0",
       "_view_name": "LayoutView",
       "align_content": null,
       "align_items": null,
       "align_self": null,
       "border_bottom": null,
       "border_left": null,
       "border_right": null,
       "border_top": null,
       "bottom": null,
       "display": null,
       "flex": null,
       "flex_flow": null,
       "grid_area": null,
       "grid_auto_columns": null,
       "grid_auto_flow": null,
       "grid_auto_rows": null,
       "grid_column": null,
       "grid_gap": null,
       "grid_row": null,
       "grid_template_areas": null,
       "grid_template_columns": null,
       "grid_template_rows": null,
       "height": null,
       "justify_content": null,
       "justify_items": null,
       "left": null,
       "margin": null,
       "max_height": null,
       "max_width": null,
       "min_height": null,
       "min_width": null,
       "object_fit": null,
       "object_position": null,
       "order": null,
       "overflow": null,
       "padding": null,
       "right": null,
       "top": null,
       "visibility": null,
       "width": null
      }
     },
     "e6808b21de174242a37112efdfc3b6ea": {
      "model_module": "@jupyter-widgets/controls",
      "model_module_version": "2.0.0",
      "model_name": "HTMLStyleModel",
      "state": {
       "_model_module": "@jupyter-widgets/controls",
       "_model_module_version": "2.0.0",
       "_model_name": "HTMLStyleModel",
       "_view_count": null,
       "_view_module": "@jupyter-widgets/base",
       "_view_module_version": "2.0.0",
       "_view_name": "StyleView",
       "background": null,
       "description_width": "",
       "font_size": null,
       "text_color": null
      }
     },
     "e8734bbbd9f14fccaa9eca1e25c9e705": {
      "model_module": "@jupyter-widgets/base",
      "model_module_version": "2.0.0",
      "model_name": "LayoutModel",
      "state": {
       "_model_module": "@jupyter-widgets/base",
       "_model_module_version": "2.0.0",
       "_model_name": "LayoutModel",
       "_view_count": null,
       "_view_module": "@jupyter-widgets/base",
       "_view_module_version": "2.0.0",
       "_view_name": "LayoutView",
       "align_content": null,
       "align_items": null,
       "align_self": null,
       "border_bottom": null,
       "border_left": null,
       "border_right": null,
       "border_top": null,
       "bottom": null,
       "display": null,
       "flex": null,
       "flex_flow": null,
       "grid_area": null,
       "grid_auto_columns": null,
       "grid_auto_flow": null,
       "grid_auto_rows": null,
       "grid_column": null,
       "grid_gap": null,
       "grid_row": null,
       "grid_template_areas": null,
       "grid_template_columns": null,
       "grid_template_rows": null,
       "height": null,
       "justify_content": null,
       "justify_items": null,
       "left": null,
       "margin": null,
       "max_height": null,
       "max_width": null,
       "min_height": null,
       "min_width": null,
       "object_fit": null,
       "object_position": null,
       "order": null,
       "overflow": null,
       "padding": null,
       "right": null,
       "top": null,
       "visibility": null,
       "width": null
      }
     },
     "ee4cded18cf34cf4874536ea6e5fc2dc": {
      "model_module": "@jupyter-widgets/base",
      "model_module_version": "2.0.0",
      "model_name": "LayoutModel",
      "state": {
       "_model_module": "@jupyter-widgets/base",
       "_model_module_version": "2.0.0",
       "_model_name": "LayoutModel",
       "_view_count": null,
       "_view_module": "@jupyter-widgets/base",
       "_view_module_version": "2.0.0",
       "_view_name": "LayoutView",
       "align_content": null,
       "align_items": null,
       "align_self": null,
       "border_bottom": null,
       "border_left": null,
       "border_right": null,
       "border_top": null,
       "bottom": null,
       "display": null,
       "flex": null,
       "flex_flow": null,
       "grid_area": null,
       "grid_auto_columns": null,
       "grid_auto_flow": null,
       "grid_auto_rows": null,
       "grid_column": null,
       "grid_gap": null,
       "grid_row": null,
       "grid_template_areas": null,
       "grid_template_columns": null,
       "grid_template_rows": null,
       "height": null,
       "justify_content": null,
       "justify_items": null,
       "left": null,
       "margin": null,
       "max_height": null,
       "max_width": null,
       "min_height": null,
       "min_width": null,
       "object_fit": null,
       "object_position": null,
       "order": null,
       "overflow": null,
       "padding": null,
       "right": null,
       "top": null,
       "visibility": null,
       "width": null
      }
     },
     "f0f9c32386364de685c473699607f47b": {
      "model_module": "@jupyter-widgets/controls",
      "model_module_version": "2.0.0",
      "model_name": "HTMLStyleModel",
      "state": {
       "_model_module": "@jupyter-widgets/controls",
       "_model_module_version": "2.0.0",
       "_model_name": "HTMLStyleModel",
       "_view_count": null,
       "_view_module": "@jupyter-widgets/base",
       "_view_module_version": "2.0.0",
       "_view_name": "StyleView",
       "background": null,
       "description_width": "",
       "font_size": null,
       "text_color": null
      }
     },
     "f49b3ec4c086429784e081610a1f42ad": {
      "model_module": "@jupyter-widgets/controls",
      "model_module_version": "2.0.0",
      "model_name": "HTMLModel",
      "state": {
       "_dom_classes": [],
       "_model_module": "@jupyter-widgets/controls",
       "_model_module_version": "2.0.0",
       "_model_name": "HTMLModel",
       "_view_count": null,
       "_view_module": "@jupyter-widgets/controls",
       "_view_module_version": "2.0.0",
       "_view_name": "HTMLView",
       "description": "",
       "description_allow_html": false,
       "layout": "IPY_MODEL_ee4cded18cf34cf4874536ea6e5fc2dc",
       "placeholder": "​",
       "style": "IPY_MODEL_7c6958ce15ab4b93bc4a7612bd6f443c",
       "tabbable": null,
       "tooltip": null,
       "value": " 2500/2500 [00:00&lt;00:00, 7308.47 examples/s]"
      }
     },
     "f9b98a0fed2344a58269e8727a6a933f": {
      "model_module": "@jupyter-widgets/base",
      "model_module_version": "2.0.0",
      "model_name": "LayoutModel",
      "state": {
       "_model_module": "@jupyter-widgets/base",
       "_model_module_version": "2.0.0",
       "_model_name": "LayoutModel",
       "_view_count": null,
       "_view_module": "@jupyter-widgets/base",
       "_view_module_version": "2.0.0",
       "_view_name": "LayoutView",
       "align_content": null,
       "align_items": null,
       "align_self": null,
       "border_bottom": null,
       "border_left": null,
       "border_right": null,
       "border_top": null,
       "bottom": null,
       "display": null,
       "flex": null,
       "flex_flow": null,
       "grid_area": null,
       "grid_auto_columns": null,
       "grid_auto_flow": null,
       "grid_auto_rows": null,
       "grid_column": null,
       "grid_gap": null,
       "grid_row": null,
       "grid_template_areas": null,
       "grid_template_columns": null,
       "grid_template_rows": null,
       "height": null,
       "justify_content": null,
       "justify_items": null,
       "left": null,
       "margin": null,
       "max_height": null,
       "max_width": null,
       "min_height": null,
       "min_width": null,
       "object_fit": null,
       "object_position": null,
       "order": null,
       "overflow": null,
       "padding": null,
       "right": null,
       "top": null,
       "visibility": null,
       "width": "20px"
      }
     },
     "fe1b4344fe424232b6f466de665cce84": {
      "model_module": "@jupyter-widgets/controls",
      "model_module_version": "2.0.0",
      "model_name": "HBoxModel",
      "state": {
       "_dom_classes": [],
       "_model_module": "@jupyter-widgets/controls",
       "_model_module_version": "2.0.0",
       "_model_name": "HBoxModel",
       "_view_count": null,
       "_view_module": "@jupyter-widgets/controls",
       "_view_module_version": "2.0.0",
       "_view_name": "HBoxView",
       "box_style": "",
       "children": [
        "IPY_MODEL_220de7975ecb427aae241838b99a91ab",
        "IPY_MODEL_63ce6cf26fe741a3a24c7262a64fa433",
        "IPY_MODEL_4f0f2381ea74487ba80851e69137594f"
       ],
       "layout": "IPY_MODEL_443b921135204584ac5a8c797ace0b06",
       "tabbable": null,
       "tooltip": null
      }
     }
    },
    "version_major": 2,
    "version_minor": 0
   }
  }
 },
 "nbformat": 4,
 "nbformat_minor": 5
}
